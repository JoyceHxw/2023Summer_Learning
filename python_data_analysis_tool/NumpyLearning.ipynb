{
 "cells": [
  {
   "cell_type": "code",
   "execution_count": 1,
   "id": "bfa14732",
   "metadata": {
    "ExecuteTime": {
     "end_time": "2023-07-13T01:59:10.187429Z",
     "start_time": "2023-07-13T01:59:09.741922Z"
    }
   },
   "outputs": [],
   "source": [
    "import numpy as np\n",
    "import pandas as pd"
   ]
  },
  {
   "cell_type": "markdown",
   "id": "9da06dfe",
   "metadata": {},
   "source": [
    "## Numpy介绍"
   ]
  },
  {
   "cell_type": "code",
   "execution_count": 2,
   "id": "0a81243f",
   "metadata": {
    "ExecuteTime": {
     "end_time": "2023-07-13T02:00:57.373256Z",
     "start_time": "2023-07-13T02:00:57.362255Z"
    }
   },
   "outputs": [
    {
     "data": {
      "text/plain": [
       "array([[1, 2, 3],\n",
       "       [2, 3, 4]])"
      ]
     },
     "execution_count": 2,
     "metadata": {},
     "output_type": "execute_result"
    }
   ],
   "source": [
    "np.array([\n",
    "    [1,2,3],\n",
    "    [2,3,4]\n",
    "])"
   ]
  },
  {
   "cell_type": "code",
   "execution_count": 3,
   "id": "c74ad0a0",
   "metadata": {
    "ExecuteTime": {
     "end_time": "2023-07-13T02:01:49.583881Z",
     "start_time": "2023-07-13T02:01:49.572880Z"
    }
   },
   "outputs": [],
   "source": [
    "import random\n",
    "import time"
   ]
  },
  {
   "cell_type": "code",
   "execution_count": 13,
   "id": "eb0853c8",
   "metadata": {
    "ExecuteTime": {
     "end_time": "2023-07-13T02:09:46.709520Z",
     "start_time": "2023-07-13T02:09:46.530694Z"
    }
   },
   "outputs": [],
   "source": [
    "a=[]\n",
    "for i in range(1000000):\n",
    "    a.append(random.random())\n",
    "b=np.array(a)"
   ]
  },
  {
   "cell_type": "code",
   "execution_count": 14,
   "id": "4fcdb429",
   "metadata": {
    "ExecuteTime": {
     "end_time": "2023-07-13T02:09:48.257302Z",
     "start_time": "2023-07-13T02:09:48.237302Z"
    }
   },
   "outputs": [
    {
     "name": "stdout",
     "output_type": "stream",
     "text": [
      "0.0020003318786621094\n"
     ]
    }
   ],
   "source": [
    "# numpy时间少（连续存储）\n",
    "t1=time.time()\n",
    "np.sum(b)\n",
    "t2=time.time()\n",
    "print(t2-t1)"
   ]
  },
  {
   "cell_type": "code",
   "execution_count": 15,
   "id": "b46ba93b",
   "metadata": {
    "ExecuteTime": {
     "end_time": "2023-07-13T02:09:50.040828Z",
     "start_time": "2023-07-13T02:09:50.027824Z"
    }
   },
   "outputs": [
    {
     "name": "stdout",
     "output_type": "stream",
     "text": [
      "0.0050008296966552734\n"
     ]
    }
   ],
   "source": [
    "t3=time.time()\n",
    "sum(a)\n",
    "t4=time.time()\n",
    "print(t4-t3)"
   ]
  },
  {
   "cell_type": "code",
   "execution_count": 19,
   "id": "f6fda6d1",
   "metadata": {
    "ExecuteTime": {
     "end_time": "2023-07-13T02:12:18.024026Z",
     "start_time": "2023-07-13T02:12:18.017677Z"
    }
   },
   "outputs": [
    {
     "data": {
      "text/plain": [
       "(1, 3, 3)"
      ]
     },
     "execution_count": 19,
     "metadata": {},
     "output_type": "execute_result"
    }
   ],
   "source": [
    "c=np.array([[[1,2,3],[4,5,6],[7,8,9]]])\n",
    "c.shape"
   ]
  },
  {
   "cell_type": "code",
   "execution_count": 20,
   "id": "340a7805",
   "metadata": {
    "ExecuteTime": {
     "end_time": "2023-07-13T02:12:24.225071Z",
     "start_time": "2023-07-13T02:12:24.210071Z"
    }
   },
   "outputs": [
    {
     "data": {
      "text/plain": [
       "3"
      ]
     },
     "execution_count": 20,
     "metadata": {},
     "output_type": "execute_result"
    }
   ],
   "source": [
    "c.ndim"
   ]
  },
  {
   "cell_type": "code",
   "execution_count": 21,
   "id": "10b74878",
   "metadata": {
    "ExecuteTime": {
     "end_time": "2023-07-13T02:12:28.044770Z",
     "start_time": "2023-07-13T02:12:28.027624Z"
    }
   },
   "outputs": [
    {
     "data": {
      "text/plain": [
       "9"
      ]
     },
     "execution_count": 21,
     "metadata": {},
     "output_type": "execute_result"
    }
   ],
   "source": [
    "c.size"
   ]
  },
  {
   "cell_type": "code",
   "execution_count": 22,
   "id": "f12a689d",
   "metadata": {
    "ExecuteTime": {
     "end_time": "2023-07-13T02:12:36.708081Z",
     "start_time": "2023-07-13T02:12:36.700079Z"
    }
   },
   "outputs": [
    {
     "data": {
      "text/plain": [
       "4"
      ]
     },
     "execution_count": 22,
     "metadata": {},
     "output_type": "execute_result"
    }
   ],
   "source": [
    "c.itemsize"
   ]
  },
  {
   "cell_type": "code",
   "execution_count": 23,
   "id": "94958f9e",
   "metadata": {
    "ExecuteTime": {
     "end_time": "2023-07-13T02:12:52.990194Z",
     "start_time": "2023-07-13T02:12:52.971194Z"
    }
   },
   "outputs": [
    {
     "data": {
      "text/plain": [
       "dtype('int32')"
      ]
     },
     "execution_count": 23,
     "metadata": {},
     "output_type": "execute_result"
    }
   ],
   "source": [
    "c.dtype"
   ]
  },
  {
   "cell_type": "code",
   "execution_count": 24,
   "id": "039d6f82",
   "metadata": {
    "ExecuteTime": {
     "end_time": "2023-07-13T02:16:07.655336Z",
     "start_time": "2023-07-13T02:16:07.638336Z"
    }
   },
   "outputs": [
    {
     "data": {
      "text/plain": [
       "dtype('float32')"
      ]
     },
     "execution_count": 24,
     "metadata": {},
     "output_type": "execute_result"
    }
   ],
   "source": [
    "d=np.array([1,2,3],dtype=np.float32)\n",
    "d.dtype"
   ]
  }
 ],
 "metadata": {
  "kernelspec": {
   "display_name": "Python 3 (ipykernel)",
   "language": "python",
   "name": "python3"
  },
  "language_info": {
   "codemirror_mode": {
    "name": "ipython",
    "version": 3
   },
   "file_extension": ".py",
   "mimetype": "text/x-python",
   "name": "python",
   "nbconvert_exporter": "python",
   "pygments_lexer": "ipython3",
   "version": "3.10.3"
  },
  "toc": {
   "base_numbering": 1,
   "nav_menu": {},
   "number_sections": true,
   "sideBar": true,
   "skip_h1_title": false,
   "title_cell": "Table of Contents",
   "title_sidebar": "Contents",
   "toc_cell": false,
   "toc_position": {},
   "toc_section_display": true,
   "toc_window_display": false
  }
 },
 "nbformat": 4,
 "nbformat_minor": 5
}
