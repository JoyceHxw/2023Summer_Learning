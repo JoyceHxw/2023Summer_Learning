{
 "cells": [
  {
   "cell_type": "markdown",
   "id": "80fba3cc",
   "metadata": {},
   "source": [
    "# 练习：租房数据分析"
   ]
  },
  {
   "cell_type": "code",
   "execution_count": 1,
   "id": "e075fb0d",
   "metadata": {
    "ExecuteTime": {
     "end_time": "2023-07-12T07:20:23.652470Z",
     "start_time": "2023-07-12T07:20:23.185058Z"
    }
   },
   "outputs": [],
   "source": [
    "import pandas as pd"
   ]
  },
  {
   "cell_type": "code",
   "execution_count": 2,
   "id": "f99b1ba0",
   "metadata": {
    "ExecuteTime": {
     "end_time": "2023-07-12T07:20:23.705110Z",
     "start_time": "2023-07-12T07:20:23.652470Z"
    }
   },
   "outputs": [
    {
     "data": {
      "text/html": [
       "<div>\n",
       "<style scoped>\n",
       "    .dataframe tbody tr th:only-of-type {\n",
       "        vertical-align: middle;\n",
       "    }\n",
       "\n",
       "    .dataframe tbody tr th {\n",
       "        vertical-align: top;\n",
       "    }\n",
       "\n",
       "    .dataframe thead th {\n",
       "        text-align: right;\n",
       "    }\n",
       "</style>\n",
       "<table border=\"1\" class=\"dataframe\">\n",
       "  <thead>\n",
       "    <tr style=\"text-align: right;\">\n",
       "      <th></th>\n",
       "      <th>区域</th>\n",
       "      <th>地址</th>\n",
       "      <th>标题</th>\n",
       "      <th>户型</th>\n",
       "      <th>面积</th>\n",
       "      <th>价格</th>\n",
       "      <th>楼层</th>\n",
       "      <th>建造时间</th>\n",
       "      <th>朝向</th>\n",
       "      <th>更新时间</th>\n",
       "      <th>看房人数</th>\n",
       "      <th>备注</th>\n",
       "      <th>链接地址</th>\n",
       "    </tr>\n",
       "  </thead>\n",
       "  <tbody>\n",
       "    <tr>\n",
       "      <th>0</th>\n",
       "      <td>燕莎租房</td>\n",
       "      <td>新源街</td>\n",
       "      <td>亮马桥 新源街  精装两居 交通便利 看房方便 随时入住</td>\n",
       "      <td>2室1厅</td>\n",
       "      <td>50</td>\n",
       "      <td>5800</td>\n",
       "      <td>中楼层(共6层)</td>\n",
       "      <td>1981年建板楼</td>\n",
       "      <td>南</td>\n",
       "      <td>2017.07.21</td>\n",
       "      <td>26</td>\n",
       "      <td>随时看房 精装修 集中供暖</td>\n",
       "      <td>https://bj.lianjia.com/zufang/101101803342.html</td>\n",
       "    </tr>\n",
       "    <tr>\n",
       "      <th>1</th>\n",
       "      <td>望京租房</td>\n",
       "      <td>澳洲康都</td>\n",
       "      <td>澳洲康都东向精致两居室...........</td>\n",
       "      <td>2室1厅</td>\n",
       "      <td>79</td>\n",
       "      <td>7800</td>\n",
       "      <td>中楼层(共28层)</td>\n",
       "      <td>2005年建板塔结合</td>\n",
       "      <td>东</td>\n",
       "      <td>2017.07.23</td>\n",
       "      <td>33</td>\n",
       "      <td>距离14号线(东段)东湖渠站731米 随时看房 精装修 集中供暖</td>\n",
       "      <td>https://bj.lianjia.com/zufang/101101753126.html</td>\n",
       "    </tr>\n",
       "    <tr>\n",
       "      <th>2</th>\n",
       "      <td>广安门租房</td>\n",
       "      <td>远见名苑</td>\n",
       "      <td>远见名苑 东向两居室 独立小区环境 适合居家</td>\n",
       "      <td>2室1厅</td>\n",
       "      <td>86</td>\n",
       "      <td>8000</td>\n",
       "      <td>低楼层(共25层)</td>\n",
       "      <td>2006年建塔楼</td>\n",
       "      <td>东</td>\n",
       "      <td>2017.07.20</td>\n",
       "      <td>34</td>\n",
       "      <td>距离7号线达官营站684米 随时看房 精装修 自供暖</td>\n",
       "      <td>https://bj.lianjia.com/zufang/101101756753.html</td>\n",
       "    </tr>\n",
       "    <tr>\n",
       "      <th>3</th>\n",
       "      <td>天通苑租房</td>\n",
       "      <td>天通苑北一区</td>\n",
       "      <td>北一区简装两居，采光好，视野美，出行方便</td>\n",
       "      <td>2室1厅</td>\n",
       "      <td>103</td>\n",
       "      <td>5300</td>\n",
       "      <td>低楼层(共13层)</td>\n",
       "      <td>2004年建板楼</td>\n",
       "      <td>东南</td>\n",
       "      <td>2017.07.25</td>\n",
       "      <td>30</td>\n",
       "      <td>距离5号线天通苑站927米 随时看房 精装修 集中供暖</td>\n",
       "      <td>https://bj.lianjia.com/zufang/101101780034.html</td>\n",
       "    </tr>\n",
       "    <tr>\n",
       "      <th>4</th>\n",
       "      <td>团结湖租房</td>\n",
       "      <td>团结湖北口</td>\n",
       "      <td>团结湖北口近地铁高楼层朝南向精装修正规两居室</td>\n",
       "      <td>2室1厅</td>\n",
       "      <td>63</td>\n",
       "      <td>6400</td>\n",
       "      <td>高楼层(共16层)</td>\n",
       "      <td>1982年建塔楼</td>\n",
       "      <td>南</td>\n",
       "      <td>2017.07.26</td>\n",
       "      <td>30</td>\n",
       "      <td>距离10号线团结湖站88米 随时看房 精装修 集中供暖</td>\n",
       "      <td>https://bj.lianjia.com/zufang/101101781083.html</td>\n",
       "    </tr>\n",
       "    <tr>\n",
       "      <th>...</th>\n",
       "      <td>...</td>\n",
       "      <td>...</td>\n",
       "      <td>...</td>\n",
       "      <td>...</td>\n",
       "      <td>...</td>\n",
       "      <td>...</td>\n",
       "      <td>...</td>\n",
       "      <td>...</td>\n",
       "      <td>...</td>\n",
       "      <td>...</td>\n",
       "      <td>...</td>\n",
       "      <td>...</td>\n",
       "      <td>...</td>\n",
       "    </tr>\n",
       "    <tr>\n",
       "      <th>2755</th>\n",
       "      <td>朝青租房</td>\n",
       "      <td>天鹅湾北区</td>\n",
       "      <td>天鹅湾北区 1室1厅 9500元</td>\n",
       "      <td>1室1厅</td>\n",
       "      <td>50</td>\n",
       "      <td>9500</td>\n",
       "      <td>中楼层(共8层)</td>\n",
       "      <td>2010年建板塔结合</td>\n",
       "      <td>南</td>\n",
       "      <td>2017.07.27</td>\n",
       "      <td>13</td>\n",
       "      <td>距离6号线青年路站736米 随时看房 精装修 集中供暖</td>\n",
       "      <td>https://bj.lianjia.com/zufang/101101697995.html</td>\n",
       "    </tr>\n",
       "    <tr>\n",
       "      <th>2756</th>\n",
       "      <td>太阳宫租房</td>\n",
       "      <td>水星园</td>\n",
       "      <td>水星园精装一居室  可自带家具家电 业主也可配齐</td>\n",
       "      <td>1室1厅</td>\n",
       "      <td>68</td>\n",
       "      <td>9500</td>\n",
       "      <td>中楼层(共23层)</td>\n",
       "      <td>2005年建板塔结合</td>\n",
       "      <td>北</td>\n",
       "      <td>2017.07.24</td>\n",
       "      <td>14</td>\n",
       "      <td>距离10号线太阳宫站432米 随时看房 集中供暖</td>\n",
       "      <td>https://bj.lianjia.com/zufang/101101698013.html</td>\n",
       "    </tr>\n",
       "    <tr>\n",
       "      <th>2757</th>\n",
       "      <td>六里桥租房</td>\n",
       "      <td>莲花小区</td>\n",
       "      <td>莲花小区 西南两居室 温馨舒适 楼层合适</td>\n",
       "      <td>2室1厅</td>\n",
       "      <td>84</td>\n",
       "      <td>7200</td>\n",
       "      <td>低楼层(共28层)</td>\n",
       "      <td>1999年建板塔结合</td>\n",
       "      <td>西南</td>\n",
       "      <td>2017.07.26</td>\n",
       "      <td>7</td>\n",
       "      <td>距离10号线莲花桥站661米 随时看房 集中供暖</td>\n",
       "      <td>https://bj.lianjia.com/zufang/101101702130.html</td>\n",
       "    </tr>\n",
       "    <tr>\n",
       "      <th>2758</th>\n",
       "      <td>陶然亭租房</td>\n",
       "      <td>中海紫御公馆</td>\n",
       "      <td>中海紫御公馆  把您的家安放在花园里</td>\n",
       "      <td>2室2厅</td>\n",
       "      <td>91</td>\n",
       "      <td>12000</td>\n",
       "      <td>中楼层(共22层)</td>\n",
       "      <td>2010年建板塔结合</td>\n",
       "      <td>南</td>\n",
       "      <td>2017.07.26</td>\n",
       "      <td>6</td>\n",
       "      <td>随时看房 精装修 集中供暖</td>\n",
       "      <td>https://bj.lianjia.com/zufang/101101703605.html</td>\n",
       "    </tr>\n",
       "    <tr>\n",
       "      <th>2759</th>\n",
       "      <td>三元桥租房</td>\n",
       "      <td>曙光里</td>\n",
       "      <td>曙光里南向 高层两居室 随时看房</td>\n",
       "      <td>2室1厅</td>\n",
       "      <td>62</td>\n",
       "      <td>6200</td>\n",
       "      <td>高楼层(共18层)</td>\n",
       "      <td>1992年建塔楼</td>\n",
       "      <td>南</td>\n",
       "      <td>2017.07.25</td>\n",
       "      <td>19</td>\n",
       "      <td>距离机场线三元桥站980米 随时看房 集中供暖</td>\n",
       "      <td>https://bj.lianjia.com/zufang/101101704735.html</td>\n",
       "    </tr>\n",
       "  </tbody>\n",
       "</table>\n",
       "<p>2760 rows × 13 columns</p>\n",
       "</div>"
      ],
      "text/plain": [
       "         区域      地址                            标题    户型   面积     价格  \\\n",
       "0      燕莎租房     新源街  亮马桥 新源街  精装两居 交通便利 看房方便 随时入住  2室1厅   50   5800   \n",
       "1      望京租房    澳洲康都        澳洲康都东向精致两居室...........  2室1厅   79   7800   \n",
       "2     广安门租房    远见名苑        远见名苑 东向两居室 独立小区环境 适合居家  2室1厅   86   8000   \n",
       "3     天通苑租房  天通苑北一区          北一区简装两居，采光好，视野美，出行方便  2室1厅  103   5300   \n",
       "4     团结湖租房   团结湖北口        团结湖北口近地铁高楼层朝南向精装修正规两居室  2室1厅   63   6400   \n",
       "...     ...     ...                           ...   ...  ...    ...   \n",
       "2755   朝青租房   天鹅湾北区              天鹅湾北区 1室1厅 9500元  1室1厅   50   9500   \n",
       "2756  太阳宫租房     水星园      水星园精装一居室  可自带家具家电 业主也可配齐  1室1厅   68   9500   \n",
       "2757  六里桥租房    莲花小区          莲花小区 西南两居室 温馨舒适 楼层合适  2室1厅   84   7200   \n",
       "2758  陶然亭租房  中海紫御公馆            中海紫御公馆  把您的家安放在花园里  2室2厅   91  12000   \n",
       "2759  三元桥租房     曙光里              曙光里南向 高层两居室 随时看房  2室1厅   62   6200   \n",
       "\n",
       "             楼层        建造时间  朝向        更新时间  看房人数  \\\n",
       "0      中楼层(共6层)    1981年建板楼   南  2017.07.21    26   \n",
       "1     中楼层(共28层)  2005年建板塔结合   东  2017.07.23    33   \n",
       "2     低楼层(共25层)    2006年建塔楼   东  2017.07.20    34   \n",
       "3     低楼层(共13层)    2004年建板楼  东南  2017.07.25    30   \n",
       "4     高楼层(共16层)    1982年建塔楼   南  2017.07.26    30   \n",
       "...         ...         ...  ..         ...   ...   \n",
       "2755   中楼层(共8层)  2010年建板塔结合   南  2017.07.27    13   \n",
       "2756  中楼层(共23层)  2005年建板塔结合   北  2017.07.24    14   \n",
       "2757  低楼层(共28层)  1999年建板塔结合  西南  2017.07.26     7   \n",
       "2758  中楼层(共22层)  2010年建板塔结合   南  2017.07.26     6   \n",
       "2759  高楼层(共18层)    1992年建塔楼   南  2017.07.25    19   \n",
       "\n",
       "                                     备注  \\\n",
       "0                         随时看房 精装修 集中供暖   \n",
       "1      距离14号线(东段)东湖渠站731米 随时看房 精装修 集中供暖   \n",
       "2            距离7号线达官营站684米 随时看房 精装修 自供暖   \n",
       "3           距离5号线天通苑站927米 随时看房 精装修 集中供暖   \n",
       "4           距离10号线团结湖站88米 随时看房 精装修 集中供暖   \n",
       "...                                 ...   \n",
       "2755        距离6号线青年路站736米 随时看房 精装修 集中供暖   \n",
       "2756           距离10号线太阳宫站432米 随时看房 集中供暖   \n",
       "2757           距离10号线莲花桥站661米 随时看房 集中供暖   \n",
       "2758                      随时看房 精装修 集中供暖   \n",
       "2759            距离机场线三元桥站980米 随时看房 集中供暖   \n",
       "\n",
       "                                                 链接地址  \n",
       "0     https://bj.lianjia.com/zufang/101101803342.html  \n",
       "1     https://bj.lianjia.com/zufang/101101753126.html  \n",
       "2     https://bj.lianjia.com/zufang/101101756753.html  \n",
       "3     https://bj.lianjia.com/zufang/101101780034.html  \n",
       "4     https://bj.lianjia.com/zufang/101101781083.html  \n",
       "...                                               ...  \n",
       "2755  https://bj.lianjia.com/zufang/101101697995.html  \n",
       "2756  https://bj.lianjia.com/zufang/101101698013.html  \n",
       "2757  https://bj.lianjia.com/zufang/101101702130.html  \n",
       "2758  https://bj.lianjia.com/zufang/101101703605.html  \n",
       "2759  https://bj.lianjia.com/zufang/101101704735.html  \n",
       "\n",
       "[2760 rows x 13 columns]"
      ]
     },
     "execution_count": 2,
     "metadata": {},
     "output_type": "execute_result"
    }
   ],
   "source": [
    "data=pd.read_csv(\"./data/LJdata.csv\")\n",
    "data"
   ]
  },
  {
   "cell_type": "code",
   "execution_count": 3,
   "id": "364bc80d",
   "metadata": {
    "ExecuteTime": {
     "end_time": "2023-07-12T07:20:23.717135Z",
     "start_time": "2023-07-12T07:20:23.709110Z"
    }
   },
   "outputs": [],
   "source": [
    "# data.columns = ['district', 'address', 'title', 'house_type', 'area', \n",
    "#                       'price', 'floor', 'build_time', 'direction', 'update_time', \n",
    "#                       'view_num', 'extra_info', 'link']"
   ]
  },
  {
   "cell_type": "code",
   "execution_count": 4,
   "id": "aa7e315f",
   "metadata": {
    "ExecuteTime": {
     "end_time": "2023-07-12T07:20:23.741412Z",
     "start_time": "2023-07-12T07:20:23.717135Z"
    }
   },
   "outputs": [
    {
     "data": {
      "text/plain": [
       "1569"
      ]
     },
     "execution_count": 4,
     "metadata": {},
     "output_type": "execute_result"
    }
   ],
   "source": [
    "data[data['区域']=='望京租房']['看房人数'].sum()"
   ]
  },
  {
   "cell_type": "markdown",
   "id": "20c94300",
   "metadata": {},
   "source": [
    "## 查看房屋租金的最高价格、最低价格、平均值和中位数 （median（））"
   ]
  },
  {
   "cell_type": "code",
   "execution_count": 5,
   "id": "52431863",
   "metadata": {
    "ExecuteTime": {
     "end_time": "2023-07-12T07:20:23.759089Z",
     "start_time": "2023-07-12T07:20:23.744418Z"
    }
   },
   "outputs": [
    {
     "data": {
      "text/plain": [
       "count      2760.000000\n",
       "mean       7570.800725\n",
       "std        6316.204986\n",
       "min        1300.000000\n",
       "25%        4500.000000\n",
       "50%        6000.000000\n",
       "75%        8500.000000\n",
       "max      210000.000000\n",
       "Name: 价格, dtype: float64"
      ]
     },
     "execution_count": 5,
     "metadata": {},
     "output_type": "execute_result"
    }
   ],
   "source": [
    "data['价格'].describe()"
   ]
  },
  {
   "cell_type": "markdown",
   "id": "4de602a9",
   "metadata": {},
   "source": [
    "## 找到租金最低和最高的房子的全部信息"
   ]
  },
  {
   "cell_type": "code",
   "execution_count": 6,
   "id": "7189837c",
   "metadata": {
    "ExecuteTime": {
     "end_time": "2023-07-12T07:20:23.781787Z",
     "start_time": "2023-07-12T07:20:23.759089Z"
    }
   },
   "outputs": [
    {
     "data": {
      "text/html": [
       "<div>\n",
       "<style scoped>\n",
       "    .dataframe tbody tr th:only-of-type {\n",
       "        vertical-align: middle;\n",
       "    }\n",
       "\n",
       "    .dataframe tbody tr th {\n",
       "        vertical-align: top;\n",
       "    }\n",
       "\n",
       "    .dataframe thead th {\n",
       "        text-align: right;\n",
       "    }\n",
       "</style>\n",
       "<table border=\"1\" class=\"dataframe\">\n",
       "  <thead>\n",
       "    <tr style=\"text-align: right;\">\n",
       "      <th></th>\n",
       "      <th>区域</th>\n",
       "      <th>地址</th>\n",
       "      <th>标题</th>\n",
       "      <th>户型</th>\n",
       "      <th>面积</th>\n",
       "      <th>价格</th>\n",
       "      <th>楼层</th>\n",
       "      <th>建造时间</th>\n",
       "      <th>朝向</th>\n",
       "      <th>更新时间</th>\n",
       "      <th>看房人数</th>\n",
       "      <th>备注</th>\n",
       "      <th>链接地址</th>\n",
       "    </tr>\n",
       "  </thead>\n",
       "  <tbody>\n",
       "    <tr>\n",
       "      <th>2527</th>\n",
       "      <td>良乡租房</td>\n",
       "      <td>伟业嘉园西里</td>\n",
       "      <td>半地下室 家电齐全 集中供暖 简单装修</td>\n",
       "      <td>1室1厅</td>\n",
       "      <td>46</td>\n",
       "      <td>1300</td>\n",
       "      <td>地下室(共5层)</td>\n",
       "      <td>2005年建</td>\n",
       "      <td>南</td>\n",
       "      <td>2017.07.19</td>\n",
       "      <td>14</td>\n",
       "      <td>随时看房 集中供暖</td>\n",
       "      <td>https://bj.lianjia.com/zufang/101101538484.html</td>\n",
       "    </tr>\n",
       "  </tbody>\n",
       "</table>\n",
       "</div>"
      ],
      "text/plain": [
       "        区域      地址                    标题    户型  面积    价格        楼层    建造时间 朝向  \\\n",
       "2527  良乡租房  伟业嘉园西里  半地下室 家电齐全 集中供暖 简单装修   1室1厅  46  1300  地下室(共5层)  2005年建  南   \n",
       "\n",
       "            更新时间  看房人数          备注  \\\n",
       "2527  2017.07.19    14   随时看房 集中供暖   \n",
       "\n",
       "                                                 链接地址  \n",
       "2527  https://bj.lianjia.com/zufang/101101538484.html  "
      ]
     },
     "execution_count": 6,
     "metadata": {},
     "output_type": "execute_result"
    }
   ],
   "source": [
    "# 租金最低\n",
    "data[data['价格']==data['价格'].min()]"
   ]
  },
  {
   "cell_type": "code",
   "execution_count": 7,
   "id": "13e68eb9",
   "metadata": {
    "ExecuteTime": {
     "end_time": "2023-07-12T07:20:23.813026Z",
     "start_time": "2023-07-12T07:20:23.781787Z"
    }
   },
   "outputs": [
    {
     "data": {
      "text/html": [
       "<div>\n",
       "<style scoped>\n",
       "    .dataframe tbody tr th:only-of-type {\n",
       "        vertical-align: middle;\n",
       "    }\n",
       "\n",
       "    .dataframe tbody tr th {\n",
       "        vertical-align: top;\n",
       "    }\n",
       "\n",
       "    .dataframe thead th {\n",
       "        text-align: right;\n",
       "    }\n",
       "</style>\n",
       "<table border=\"1\" class=\"dataframe\">\n",
       "  <thead>\n",
       "    <tr style=\"text-align: right;\">\n",
       "      <th></th>\n",
       "      <th>区域</th>\n",
       "      <th>地址</th>\n",
       "      <th>标题</th>\n",
       "      <th>户型</th>\n",
       "      <th>面积</th>\n",
       "      <th>价格</th>\n",
       "      <th>楼层</th>\n",
       "      <th>建造时间</th>\n",
       "      <th>朝向</th>\n",
       "      <th>更新时间</th>\n",
       "      <th>看房人数</th>\n",
       "      <th>备注</th>\n",
       "      <th>链接地址</th>\n",
       "    </tr>\n",
       "  </thead>\n",
       "  <tbody>\n",
       "    <tr>\n",
       "      <th>2658</th>\n",
       "      <td>和平里租房</td>\n",
       "      <td>雍和家园二期</td>\n",
       "      <td>雍和家园 底商出租 使用面积720米</td>\n",
       "      <td>6室3厅</td>\n",
       "      <td>720</td>\n",
       "      <td>210000</td>\n",
       "      <td>低楼层(共6层)</td>\n",
       "      <td>2005年建板楼</td>\n",
       "      <td>南</td>\n",
       "      <td>2017.07.26</td>\n",
       "      <td>21</td>\n",
       "      <td>距离2号线雍和宫站293米 随时看房 集中供暖</td>\n",
       "      <td>https://bj.lianjia.com/zufang/101101672514.html</td>\n",
       "    </tr>\n",
       "  </tbody>\n",
       "</table>\n",
       "</div>"
      ],
      "text/plain": [
       "         区域      地址                  标题    户型   面积      价格        楼层  \\\n",
       "2658  和平里租房  雍和家园二期  雍和家园 底商出租 使用面积720米  6室3厅  720  210000  低楼层(共6层)   \n",
       "\n",
       "          建造时间 朝向        更新时间  看房人数                        备注  \\\n",
       "2658  2005年建板楼  南  2017.07.26    21   距离2号线雍和宫站293米 随时看房 集中供暖   \n",
       "\n",
       "                                                 链接地址  \n",
       "2658  https://bj.lianjia.com/zufang/101101672514.html  "
      ]
     },
     "execution_count": 7,
     "metadata": {},
     "output_type": "execute_result"
    }
   ],
   "source": [
    "# 租金最高\n",
    "data[data['价格']==data['价格'].max()]"
   ]
  },
  {
   "cell_type": "markdown",
   "id": "e86b2bd4",
   "metadata": {},
   "source": [
    "## 统计看房人数最多的前 20 的区域"
   ]
  },
  {
   "cell_type": "code",
   "execution_count": 8,
   "id": "7820f129",
   "metadata": {
    "ExecuteTime": {
     "end_time": "2023-07-12T07:20:23.842420Z",
     "start_time": "2023-07-12T07:20:23.813026Z"
    }
   },
   "outputs": [
    {
     "data": {
      "text/plain": [
       "区域\n",
       "望京租房     1569\n",
       "北苑租房     1237\n",
       "双井租房      877\n",
       "酒仙桥租房     833\n",
       "广安门租房     812\n",
       "朝青租房      737\n",
       "回龙观租房     705\n",
       "马甸租房      576\n",
       "紫竹桥租房     515\n",
       "东直门租房     473\n",
       "官园租房      467\n",
       "亦庄租房      454\n",
       "安贞租房      452\n",
       "鲁谷租房      434\n",
       "金融街租房     433\n",
       "广渠门租房     428\n",
       "石佛营租房     402\n",
       "天通苑租房     399\n",
       "万柳租房      397\n",
       "清河租房      390\n",
       "Name: 看房人数, dtype: int64"
      ]
     },
     "execution_count": 8,
     "metadata": {},
     "output_type": "execute_result"
    }
   ],
   "source": [
    "data.groupby('区域')['看房人数'].sum().nlargest(20)"
   ]
  },
  {
   "cell_type": "markdown",
   "id": "541ab7b5",
   "metadata": {},
   "source": [
    "## 查看看房人数最多的房屋朝向"
   ]
  },
  {
   "cell_type": "code",
   "execution_count": 9,
   "id": "8105fef6",
   "metadata": {
    "ExecuteTime": {
     "end_time": "2023-07-12T07:20:23.859400Z",
     "start_time": "2023-07-12T07:20:23.845587Z"
    }
   },
   "outputs": [
    {
     "data": {
      "text/plain": [
       "朝向\n",
       "南 北    11785\n",
       "Name: 看房人数, dtype: int64"
      ]
     },
     "execution_count": 9,
     "metadata": {},
     "output_type": "execute_result"
    }
   ],
   "source": [
    "data.groupby('朝向')['看房人数'].sum().nlargest(1)\n",
    "# data[data['看房人数']==data['看房人数'].max()]['朝向']"
   ]
  },
  {
   "cell_type": "markdown",
   "id": "1040d13b",
   "metadata": {},
   "source": [
    "## 查看出租房屋的户型分布情况"
   ]
  },
  {
   "cell_type": "code",
   "execution_count": 10,
   "id": "c72ef5c6",
   "metadata": {
    "ExecuteTime": {
     "end_time": "2023-07-12T07:20:23.879232Z",
     "start_time": "2023-07-12T07:20:23.859400Z"
    }
   },
   "outputs": [
    {
     "data": {
      "text/plain": [
       "户型\n",
       "1室0厅      157\n",
       "1室1厅      457\n",
       "1室2厅       17\n",
       "1房间1卫       8\n",
       "2室0厅        9\n",
       "2室1厅     1284\n",
       "2室2厅      142\n",
       "2房间1卫       6\n",
       "2房间2卫       2\n",
       "3室0厅        3\n",
       "3室1厅      371\n",
       "3室2厅      207\n",
       "3室3厅        3\n",
       "3房间1卫       3\n",
       "3房间2卫       4\n",
       "4室1厅       21\n",
       "4室2厅       42\n",
       "4室3厅        3\n",
       "5室1厅        4\n",
       "5室2厅        8\n",
       "5室3厅        5\n",
       "5房间2卫       1\n",
       "6室2厅        2\n",
       "6室3厅        1\n",
       "Name: 标题, dtype: int64"
      ]
     },
     "execution_count": 10,
     "metadata": {},
     "output_type": "execute_result"
    }
   ],
   "source": [
    "s=data.groupby('户型').count()['标题']\n",
    "s"
   ]
  },
  {
   "cell_type": "markdown",
   "id": "00f4db99",
   "metadata": {},
   "source": [
    "## 查看热门小区(即：看房人数 TOP5 的小区)"
   ]
  },
  {
   "cell_type": "code",
   "execution_count": 15,
   "id": "6b8e592f",
   "metadata": {
    "ExecuteTime": {
     "end_time": "2023-07-12T07:21:50.573895Z",
     "start_time": "2023-07-12T07:21:50.564894Z"
    }
   },
   "outputs": [
    {
     "data": {
      "text/plain": [
       "地址\n",
       "清芷园      246\n",
       "卡布其诺     245\n",
       "润枫水尚     217\n",
       "芍药居北里    194\n",
       "新康园      186\n",
       "Name: 看房人数, dtype: int64"
      ]
     },
     "execution_count": 15,
     "metadata": {},
     "output_type": "execute_result"
    }
   ],
   "source": [
    "data.groupby('地址')['看房人数'].sum().nlargest(5)"
   ]
  },
  {
   "cell_type": "markdown",
   "id": "188f57ad",
   "metadata": {},
   "source": [
    "## 查看出租房源最多的小区"
   ]
  },
  {
   "cell_type": "code",
   "execution_count": 16,
   "id": "feee1c12",
   "metadata": {
    "ExecuteTime": {
     "end_time": "2023-07-12T07:22:02.223699Z",
     "start_time": "2023-07-12T07:22:02.213220Z"
    }
   },
   "outputs": [
    {
     "data": {
      "text/plain": [
       "地址\n",
       "远洋山水    19\n",
       "Name: 标题, dtype: int64"
      ]
     },
     "execution_count": 16,
     "metadata": {},
     "output_type": "execute_result"
    }
   ],
   "source": [
    "data.groupby('地址')['标题'].count().nlargest(1)"
   ]
  },
  {
   "cell_type": "markdown",
   "id": "85054a2a",
   "metadata": {},
   "source": [
    "## 查看望京租房价格在2000以下的房屋信息"
   ]
  },
  {
   "cell_type": "code",
   "execution_count": 20,
   "id": "050dad28",
   "metadata": {
    "ExecuteTime": {
     "end_time": "2023-07-12T07:23:12.810566Z",
     "start_time": "2023-07-12T07:23:12.800361Z"
    }
   },
   "outputs": [
    {
     "data": {
      "text/html": [
       "<div>\n",
       "<style scoped>\n",
       "    .dataframe tbody tr th:only-of-type {\n",
       "        vertical-align: middle;\n",
       "    }\n",
       "\n",
       "    .dataframe tbody tr th {\n",
       "        vertical-align: top;\n",
       "    }\n",
       "\n",
       "    .dataframe thead th {\n",
       "        text-align: right;\n",
       "    }\n",
       "</style>\n",
       "<table border=\"1\" class=\"dataframe\">\n",
       "  <thead>\n",
       "    <tr style=\"text-align: right;\">\n",
       "      <th></th>\n",
       "      <th>区域</th>\n",
       "      <th>地址</th>\n",
       "      <th>标题</th>\n",
       "      <th>户型</th>\n",
       "      <th>面积</th>\n",
       "      <th>价格</th>\n",
       "      <th>楼层</th>\n",
       "      <th>建造时间</th>\n",
       "      <th>朝向</th>\n",
       "      <th>更新时间</th>\n",
       "      <th>看房人数</th>\n",
       "      <th>备注</th>\n",
       "      <th>链接地址</th>\n",
       "    </tr>\n",
       "  </thead>\n",
       "  <tbody>\n",
       "  </tbody>\n",
       "</table>\n",
       "</div>"
      ],
      "text/plain": [
       "Empty DataFrame\n",
       "Columns: [区域, 地址, 标题, 户型, 面积, 价格, 楼层, 建造时间, 朝向, 更新时间, 看房人数, 备注, 链接地址]\n",
       "Index: []"
      ]
     },
     "execution_count": 20,
     "metadata": {},
     "output_type": "execute_result"
    }
   ],
   "source": [
    "data.loc[(data['区域']=='望京租房') & (data['价格']<2000)]"
   ]
  },
  {
   "cell_type": "markdown",
   "id": "ed73e66b",
   "metadata": {},
   "source": [
    "## 查看租房价格在2000以下的房屋信息，并按照价格从低到高排序"
   ]
  },
  {
   "cell_type": "code",
   "execution_count": 14,
   "id": "ee63fa16",
   "metadata": {
    "ExecuteTime": {
     "end_time": "2023-07-12T07:20:23.959131Z",
     "start_time": "2023-07-12T07:20:23.930160Z"
    }
   },
   "outputs": [
    {
     "data": {
      "text/html": [
       "<div>\n",
       "<style scoped>\n",
       "    .dataframe tbody tr th:only-of-type {\n",
       "        vertical-align: middle;\n",
       "    }\n",
       "\n",
       "    .dataframe tbody tr th {\n",
       "        vertical-align: top;\n",
       "    }\n",
       "\n",
       "    .dataframe thead th {\n",
       "        text-align: right;\n",
       "    }\n",
       "</style>\n",
       "<table border=\"1\" class=\"dataframe\">\n",
       "  <thead>\n",
       "    <tr style=\"text-align: right;\">\n",
       "      <th></th>\n",
       "      <th>区域</th>\n",
       "      <th>地址</th>\n",
       "      <th>标题</th>\n",
       "      <th>户型</th>\n",
       "      <th>面积</th>\n",
       "      <th>价格</th>\n",
       "      <th>楼层</th>\n",
       "      <th>建造时间</th>\n",
       "      <th>朝向</th>\n",
       "      <th>更新时间</th>\n",
       "      <th>看房人数</th>\n",
       "      <th>备注</th>\n",
       "      <th>链接地址</th>\n",
       "    </tr>\n",
       "  </thead>\n",
       "  <tbody>\n",
       "    <tr>\n",
       "      <th>2527</th>\n",
       "      <td>良乡租房</td>\n",
       "      <td>伟业嘉园西里</td>\n",
       "      <td>半地下室 家电齐全 集中供暖 简单装修</td>\n",
       "      <td>1室1厅</td>\n",
       "      <td>46</td>\n",
       "      <td>1300</td>\n",
       "      <td>地下室(共5层)</td>\n",
       "      <td>2005年建</td>\n",
       "      <td>南</td>\n",
       "      <td>2017.07.19</td>\n",
       "      <td>14</td>\n",
       "      <td>随时看房 集中供暖</td>\n",
       "      <td>https://bj.lianjia.com/zufang/101101538484.html</td>\n",
       "    </tr>\n",
       "    <tr>\n",
       "      <th>591</th>\n",
       "      <td>北关租房</td>\n",
       "      <td>西潞苑小区</td>\n",
       "      <td>西潞苑小区 西向正规二居室 两个房间都有空调 短租房</td>\n",
       "      <td>2室1厅</td>\n",
       "      <td>78</td>\n",
       "      <td>1500</td>\n",
       "      <td>中楼层(共4层)</td>\n",
       "      <td>1999年建板楼</td>\n",
       "      <td>西</td>\n",
       "      <td>2017.07.26</td>\n",
       "      <td>1</td>\n",
       "      <td>随时看房 集中供暖</td>\n",
       "      <td>https://bj.lianjia.com/zufang/101101848906.html</td>\n",
       "    </tr>\n",
       "    <tr>\n",
       "      <th>629</th>\n",
       "      <td>北关租房</td>\n",
       "      <td>西潞苑小区</td>\n",
       "      <td>西潞苑小区 西向正规二居室 两个房间都有空调 短租房</td>\n",
       "      <td>2室1厅</td>\n",
       "      <td>78</td>\n",
       "      <td>1500</td>\n",
       "      <td>中楼层(共4层)</td>\n",
       "      <td>1999年建板楼</td>\n",
       "      <td>西</td>\n",
       "      <td>2017.07.26</td>\n",
       "      <td>1</td>\n",
       "      <td>随时看房 集中供暖</td>\n",
       "      <td>https://bj.lianjia.com/zufang/101101848906.html</td>\n",
       "    </tr>\n",
       "    <tr>\n",
       "      <th>1614</th>\n",
       "      <td>良乡租房</td>\n",
       "      <td>北关东路社区</td>\n",
       "      <td>北关东路社区 1室1厅 1700元</td>\n",
       "      <td>1室1厅</td>\n",
       "      <td>36</td>\n",
       "      <td>1700</td>\n",
       "      <td>中楼层(共5层)</td>\n",
       "      <td>1979年建</td>\n",
       "      <td>南</td>\n",
       "      <td>2017.07.23</td>\n",
       "      <td>5</td>\n",
       "      <td>随时看房</td>\n",
       "      <td>https://bj.lianjia.com/zufang/101101846245.html</td>\n",
       "    </tr>\n",
       "    <tr>\n",
       "      <th>1040</th>\n",
       "      <td>鼓楼大街租房</td>\n",
       "      <td>北环里小区</td>\n",
       "      <td>中间楼层东向&lt;span&gt;开间&lt;/span&gt; 简单装修 看房随时</td>\n",
       "      <td>1室1厅</td>\n",
       "      <td>41</td>\n",
       "      <td>1800</td>\n",
       "      <td>中楼层(共5层)</td>\n",
       "      <td>2004年建板楼</td>\n",
       "      <td>东</td>\n",
       "      <td>2017.07.23</td>\n",
       "      <td>9</td>\n",
       "      <td>距离昌平线昌平站909米 随时看房 集中供暖</td>\n",
       "      <td>https://bj.lianjia.com/zufang/101101770182.html</td>\n",
       "    </tr>\n",
       "    <tr>\n",
       "      <th>2610</th>\n",
       "      <td>南口租房</td>\n",
       "      <td>南厂北区</td>\n",
       "      <td>南厂北区新装两居             。</td>\n",
       "      <td>2室1厅</td>\n",
       "      <td>58</td>\n",
       "      <td>1800</td>\n",
       "      <td>高楼层(共6层)</td>\n",
       "      <td>1990年建</td>\n",
       "      <td>南 北</td>\n",
       "      <td>2017.07.22</td>\n",
       "      <td>0</td>\n",
       "      <td>随时看房 精装修</td>\n",
       "      <td>https://bj.lianjia.com/zufang/101101824745.html</td>\n",
       "    </tr>\n",
       "    <tr>\n",
       "      <th>2660</th>\n",
       "      <td>鼓楼大街租房</td>\n",
       "      <td>北环里小区</td>\n",
       "      <td>北环里小区（天成苑）  1950元/月</td>\n",
       "      <td>1室0厅</td>\n",
       "      <td>37</td>\n",
       "      <td>1900</td>\n",
       "      <td>中楼层(共5层)</td>\n",
       "      <td>2004年建板楼</td>\n",
       "      <td>东</td>\n",
       "      <td>2017.07.21</td>\n",
       "      <td>7</td>\n",
       "      <td>距离昌平线昌平站885米 随时看房 集中供暖</td>\n",
       "      <td>https://bj.lianjia.com/zufang/101101715900.html</td>\n",
       "    </tr>\n",
       "    <tr>\n",
       "      <th>953</th>\n",
       "      <td>阎村租房</td>\n",
       "      <td>天恒乐活城</td>\n",
       "      <td>天恒乐活城西北电梯一居改两居 有装修基本家具家电</td>\n",
       "      <td>2室1厅</td>\n",
       "      <td>61</td>\n",
       "      <td>1950</td>\n",
       "      <td>中楼层(共18层)</td>\n",
       "      <td>2013年建板塔结合</td>\n",
       "      <td>西北</td>\n",
       "      <td>2017.07.14</td>\n",
       "      <td>12</td>\n",
       "      <td>随时看房 精装修 自供暖</td>\n",
       "      <td>https://bj.lianjia.com/zufang/101101644848.html</td>\n",
       "    </tr>\n",
       "  </tbody>\n",
       "</table>\n",
       "</div>"
      ],
      "text/plain": [
       "          区域      地址                               标题    户型  面积    价格  \\\n",
       "2527    良乡租房  伟业嘉园西里             半地下室 家电齐全 集中供暖 简单装修   1室1厅  46  1300   \n",
       "591     北关租房   西潞苑小区       西潞苑小区 西向正规二居室 两个房间都有空调 短租房  2室1厅  78  1500   \n",
       "629     北关租房   西潞苑小区       西潞苑小区 西向正规二居室 两个房间都有空调 短租房  2室1厅  78  1500   \n",
       "1614    良乡租房  北关东路社区                北关东路社区 1室1厅 1700元  1室1厅  36  1700   \n",
       "1040  鼓楼大街租房   北环里小区  中间楼层东向<span>开间</span> 简单装修 看房随时  1室1厅  41  1800   \n",
       "2610    南口租房    南厂北区           南厂北区新装两居             。  2室1厅  58  1800   \n",
       "2660  鼓楼大街租房   北环里小区              北环里小区（天成苑）  1950元/月  1室0厅  37  1900   \n",
       "953     阎村租房   天恒乐活城         天恒乐活城西北电梯一居改两居 有装修基本家具家电  2室1厅  61  1950   \n",
       "\n",
       "             楼层        建造时间   朝向        更新时间  看房人数                       备注  \\\n",
       "2527   地下室(共5层)      2005年建    南  2017.07.19    14                随时看房 集中供暖   \n",
       "591    中楼层(共4层)    1999年建板楼    西  2017.07.26     1                随时看房 集中供暖   \n",
       "629    中楼层(共4层)    1999年建板楼    西  2017.07.26     1                随时看房 集中供暖   \n",
       "1614   中楼层(共5层)      1979年建    南  2017.07.23     5                     随时看房   \n",
       "1040   中楼层(共5层)    2004年建板楼    东  2017.07.23     9   距离昌平线昌平站909米 随时看房 集中供暖   \n",
       "2610   高楼层(共6层)      1990年建  南 北  2017.07.22     0                 随时看房 精装修   \n",
       "2660   中楼层(共5层)    2004年建板楼    东  2017.07.21     7   距离昌平线昌平站885米 随时看房 集中供暖   \n",
       "953   中楼层(共18层)  2013年建板塔结合   西北  2017.07.14    12             随时看房 精装修 自供暖   \n",
       "\n",
       "                                                 链接地址  \n",
       "2527  https://bj.lianjia.com/zufang/101101538484.html  \n",
       "591   https://bj.lianjia.com/zufang/101101848906.html  \n",
       "629   https://bj.lianjia.com/zufang/101101848906.html  \n",
       "1614  https://bj.lianjia.com/zufang/101101846245.html  \n",
       "1040  https://bj.lianjia.com/zufang/101101770182.html  \n",
       "2610  https://bj.lianjia.com/zufang/101101824745.html  \n",
       "2660  https://bj.lianjia.com/zufang/101101715900.html  \n",
       "953   https://bj.lianjia.com/zufang/101101644848.html  "
      ]
     },
     "execution_count": 14,
     "metadata": {},
     "output_type": "execute_result"
    }
   ],
   "source": [
    "data.loc[data['价格']<2000].sort_values('价格')"
   ]
  }
 ],
 "metadata": {
  "kernelspec": {
   "display_name": "Python 3 (ipykernel)",
   "language": "python",
   "name": "python3"
  },
  "language_info": {
   "codemirror_mode": {
    "name": "ipython",
    "version": 3
   },
   "file_extension": ".py",
   "mimetype": "text/x-python",
   "name": "python",
   "nbconvert_exporter": "python",
   "pygments_lexer": "ipython3",
   "version": "3.10.3"
  },
  "toc": {
   "base_numbering": 1,
   "nav_menu": {},
   "number_sections": true,
   "sideBar": true,
   "skip_h1_title": false,
   "title_cell": "Table of Contents",
   "title_sidebar": "Contents",
   "toc_cell": false,
   "toc_position": {},
   "toc_section_display": true,
   "toc_window_display": false
  }
 },
 "nbformat": 4,
 "nbformat_minor": 5
}
