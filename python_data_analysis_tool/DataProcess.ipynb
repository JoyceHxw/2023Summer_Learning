{
 "cells": [
  {
   "cell_type": "code",
   "execution_count": 1,
   "id": "256a77ed",
   "metadata": {
    "ExecuteTime": {
     "end_time": "2023-07-13T06:08:34.139895Z",
     "start_time": "2023-07-13T06:08:33.772766Z"
    }
   },
   "outputs": [],
   "source": [
    "import pandas as pd"
   ]
  },
  {
   "cell_type": "code",
   "execution_count": 61,
   "id": "d4a2fd30",
   "metadata": {
    "ExecuteTime": {
     "end_time": "2023-07-13T06:35:44.663297Z",
     "start_time": "2023-07-13T06:35:44.654298Z"
    }
   },
   "outputs": [],
   "source": [
    "from IPython.core.interactiveshell import InteractiveShell\n",
    "InteractiveShell.ast_node_interactivity = \"all\""
   ]
  },
  {
   "cell_type": "markdown",
   "id": "b4ecea2f",
   "metadata": {},
   "source": [
    "## array自定义函数"
   ]
  },
  {
   "cell_type": "markdown",
   "id": "b96fc9da",
   "metadata": {},
   "source": [
    "### Series的apply方法"
   ]
  },
  {
   "cell_type": "code",
   "execution_count": 2,
   "id": "d72820bb",
   "metadata": {
    "ExecuteTime": {
     "end_time": "2023-07-13T06:08:36.042259Z",
     "start_time": "2023-07-13T06:08:36.030909Z"
    }
   },
   "outputs": [
    {
     "data": {
      "text/html": [
       "<div>\n",
       "<style scoped>\n",
       "    .dataframe tbody tr th:only-of-type {\n",
       "        vertical-align: middle;\n",
       "    }\n",
       "\n",
       "    .dataframe tbody tr th {\n",
       "        vertical-align: top;\n",
       "    }\n",
       "\n",
       "    .dataframe thead th {\n",
       "        text-align: right;\n",
       "    }\n",
       "</style>\n",
       "<table border=\"1\" class=\"dataframe\">\n",
       "  <thead>\n",
       "    <tr style=\"text-align: right;\">\n",
       "      <th></th>\n",
       "      <th>a</th>\n",
       "      <th>b</th>\n",
       "    </tr>\n",
       "  </thead>\n",
       "  <tbody>\n",
       "    <tr>\n",
       "      <th>0</th>\n",
       "      <td>1</td>\n",
       "      <td>4</td>\n",
       "    </tr>\n",
       "    <tr>\n",
       "      <th>1</th>\n",
       "      <td>2</td>\n",
       "      <td>5</td>\n",
       "    </tr>\n",
       "    <tr>\n",
       "      <th>2</th>\n",
       "      <td>3</td>\n",
       "      <td>6</td>\n",
       "    </tr>\n",
       "  </tbody>\n",
       "</table>\n",
       "</div>"
      ],
      "text/plain": [
       "   a  b\n",
       "0  1  4\n",
       "1  2  5\n",
       "2  3  6"
      ]
     },
     "execution_count": 2,
     "metadata": {},
     "output_type": "execute_result"
    }
   ],
   "source": [
    "df=pd.DataFrame({'a':[1,2,3], 'b':[4,5,6]})\n",
    "df"
   ]
  },
  {
   "cell_type": "code",
   "execution_count": 3,
   "id": "42ea3668",
   "metadata": {
    "ExecuteTime": {
     "end_time": "2023-07-13T06:08:37.684765Z",
     "start_time": "2023-07-13T06:08:37.678455Z"
    }
   },
   "outputs": [],
   "source": [
    "def func(x):\n",
    "    return x*x"
   ]
  },
  {
   "cell_type": "code",
   "execution_count": 4,
   "id": "b7f1af1c",
   "metadata": {
    "ExecuteTime": {
     "end_time": "2023-07-13T06:08:38.477337Z",
     "start_time": "2023-07-13T06:08:38.471513Z"
    }
   },
   "outputs": [
    {
     "data": {
      "text/plain": [
       "0    1\n",
       "1    4\n",
       "2    9\n",
       "Name: a, dtype: int64"
      ]
     },
     "execution_count": 4,
     "metadata": {},
     "output_type": "execute_result"
    }
   ],
   "source": [
    "df['a'].apply(func)"
   ]
  },
  {
   "cell_type": "code",
   "execution_count": 5,
   "id": "05322fd9",
   "metadata": {
    "ExecuteTime": {
     "end_time": "2023-07-13T06:08:39.408405Z",
     "start_time": "2023-07-13T06:08:39.402770Z"
    }
   },
   "outputs": [],
   "source": [
    "# 接收多个参数\n",
    "def func1(x,n):\n",
    "    return x+n"
   ]
  },
  {
   "cell_type": "code",
   "execution_count": 6,
   "id": "30ab3151",
   "metadata": {
    "ExecuteTime": {
     "end_time": "2023-07-13T06:08:41.523384Z",
     "start_time": "2023-07-13T06:08:41.507757Z"
    }
   },
   "outputs": [
    {
     "data": {
      "text/plain": [
       "0    4\n",
       "1    5\n",
       "2    6\n",
       "Name: a, dtype: int64"
      ]
     },
     "execution_count": 6,
     "metadata": {},
     "output_type": "execute_result"
    }
   ],
   "source": [
    "df['a'].apply(func1,args=(3,))"
   ]
  },
  {
   "cell_type": "markdown",
   "id": "25c06fbb",
   "metadata": {},
   "source": [
    "### DataFrame的apply方法"
   ]
  },
  {
   "cell_type": "code",
   "execution_count": 7,
   "id": "cbd92b60",
   "metadata": {
    "ExecuteTime": {
     "end_time": "2023-07-13T06:08:42.845919Z",
     "start_time": "2023-07-13T06:08:42.841918Z"
    }
   },
   "outputs": [],
   "source": [
    "# 按列执行\n",
    "def func2(x):\n",
    "    return x-1"
   ]
  },
  {
   "cell_type": "code",
   "execution_count": 8,
   "id": "5823733f",
   "metadata": {
    "ExecuteTime": {
     "end_time": "2023-07-13T06:08:44.041282Z",
     "start_time": "2023-07-13T06:08:44.019821Z"
    }
   },
   "outputs": [
    {
     "data": {
      "text/html": [
       "<div>\n",
       "<style scoped>\n",
       "    .dataframe tbody tr th:only-of-type {\n",
       "        vertical-align: middle;\n",
       "    }\n",
       "\n",
       "    .dataframe tbody tr th {\n",
       "        vertical-align: top;\n",
       "    }\n",
       "\n",
       "    .dataframe thead th {\n",
       "        text-align: right;\n",
       "    }\n",
       "</style>\n",
       "<table border=\"1\" class=\"dataframe\">\n",
       "  <thead>\n",
       "    <tr style=\"text-align: right;\">\n",
       "      <th></th>\n",
       "      <th>a</th>\n",
       "      <th>b</th>\n",
       "    </tr>\n",
       "  </thead>\n",
       "  <tbody>\n",
       "    <tr>\n",
       "      <th>0</th>\n",
       "      <td>0</td>\n",
       "      <td>3</td>\n",
       "    </tr>\n",
       "    <tr>\n",
       "      <th>1</th>\n",
       "      <td>1</td>\n",
       "      <td>4</td>\n",
       "    </tr>\n",
       "    <tr>\n",
       "      <th>2</th>\n",
       "      <td>2</td>\n",
       "      <td>5</td>\n",
       "    </tr>\n",
       "  </tbody>\n",
       "</table>\n",
       "</div>"
      ],
      "text/plain": [
       "   a  b\n",
       "0  0  3\n",
       "1  1  4\n",
       "2  2  5"
      ]
     },
     "execution_count": 8,
     "metadata": {},
     "output_type": "execute_result"
    }
   ],
   "source": [
    "df.apply(func2)"
   ]
  },
  {
   "cell_type": "code",
   "execution_count": 9,
   "id": "4e606ae8",
   "metadata": {
    "ExecuteTime": {
     "end_time": "2023-07-13T06:08:46.696064Z",
     "start_time": "2023-07-13T06:08:46.676589Z"
    }
   },
   "outputs": [
    {
     "data": {
      "text/html": [
       "<div>\n",
       "<style scoped>\n",
       "    .dataframe tbody tr th:only-of-type {\n",
       "        vertical-align: middle;\n",
       "    }\n",
       "\n",
       "    .dataframe tbody tr th {\n",
       "        vertical-align: top;\n",
       "    }\n",
       "\n",
       "    .dataframe thead th {\n",
       "        text-align: right;\n",
       "    }\n",
       "</style>\n",
       "<table border=\"1\" class=\"dataframe\">\n",
       "  <thead>\n",
       "    <tr style=\"text-align: right;\">\n",
       "      <th></th>\n",
       "      <th>a</th>\n",
       "      <th>b</th>\n",
       "    </tr>\n",
       "  </thead>\n",
       "  <tbody>\n",
       "    <tr>\n",
       "      <th>0</th>\n",
       "      <td>0</td>\n",
       "      <td>3</td>\n",
       "    </tr>\n",
       "    <tr>\n",
       "      <th>1</th>\n",
       "      <td>1</td>\n",
       "      <td>4</td>\n",
       "    </tr>\n",
       "    <tr>\n",
       "      <th>2</th>\n",
       "      <td>2</td>\n",
       "      <td>5</td>\n",
       "    </tr>\n",
       "  </tbody>\n",
       "</table>\n",
       "</div>"
      ],
      "text/plain": [
       "   a  b\n",
       "0  0  3\n",
       "1  1  4\n",
       "2  2  5"
      ]
     },
     "execution_count": 9,
     "metadata": {},
     "output_type": "execute_result"
    }
   ],
   "source": [
    "# 按行执行\n",
    "df.apply(func2,axis=1)"
   ]
  },
  {
   "cell_type": "code",
   "execution_count": 10,
   "id": "6fd8de17",
   "metadata": {
    "ExecuteTime": {
     "end_time": "2023-07-13T06:08:47.528867Z",
     "start_time": "2023-07-13T06:08:47.509196Z"
    }
   },
   "outputs": [
    {
     "data": {
      "text/html": [
       "<div>\n",
       "<style scoped>\n",
       "    .dataframe tbody tr th:only-of-type {\n",
       "        vertical-align: middle;\n",
       "    }\n",
       "\n",
       "    .dataframe tbody tr th {\n",
       "        vertical-align: top;\n",
       "    }\n",
       "\n",
       "    .dataframe thead th {\n",
       "        text-align: right;\n",
       "    }\n",
       "</style>\n",
       "<table border=\"1\" class=\"dataframe\">\n",
       "  <thead>\n",
       "    <tr style=\"text-align: right;\">\n",
       "      <th></th>\n",
       "      <th>a</th>\n",
       "      <th>b</th>\n",
       "    </tr>\n",
       "  </thead>\n",
       "  <tbody>\n",
       "    <tr>\n",
       "      <th>0</th>\n",
       "      <td>0</td>\n",
       "      <td>3</td>\n",
       "    </tr>\n",
       "    <tr>\n",
       "      <th>1</th>\n",
       "      <td>1</td>\n",
       "      <td>4</td>\n",
       "    </tr>\n",
       "    <tr>\n",
       "      <th>2</th>\n",
       "      <td>2</td>\n",
       "      <td>5</td>\n",
       "    </tr>\n",
       "  </tbody>\n",
       "</table>\n",
       "</div>"
      ],
      "text/plain": [
       "   a  b\n",
       "0  0  3\n",
       "1  1  4\n",
       "2  2  5"
      ]
     },
     "execution_count": 10,
     "metadata": {},
     "output_type": "execute_result"
    }
   ],
   "source": [
    "# 按每一个元素执行\n",
    "df.applymap(func2)"
   ]
  },
  {
   "cell_type": "markdown",
   "id": "e754a54f",
   "metadata": {},
   "source": [
    "## 数据分组"
   ]
  },
  {
   "cell_type": "markdown",
   "id": "ca8afc24",
   "metadata": {},
   "source": [
    "### transform分组"
   ]
  },
  {
   "cell_type": "code",
   "execution_count": 11,
   "id": "37335596",
   "metadata": {
    "ExecuteTime": {
     "end_time": "2023-07-13T06:08:49.257566Z",
     "start_time": "2023-07-13T06:08:49.238737Z"
    }
   },
   "outputs": [
    {
     "data": {
      "text/html": [
       "<div>\n",
       "<style scoped>\n",
       "    .dataframe tbody tr th:only-of-type {\n",
       "        vertical-align: middle;\n",
       "    }\n",
       "\n",
       "    .dataframe tbody tr th {\n",
       "        vertical-align: top;\n",
       "    }\n",
       "\n",
       "    .dataframe thead th {\n",
       "        text-align: right;\n",
       "    }\n",
       "</style>\n",
       "<table border=\"1\" class=\"dataframe\">\n",
       "  <thead>\n",
       "    <tr style=\"text-align: right;\">\n",
       "      <th></th>\n",
       "      <th>country</th>\n",
       "      <th>continent</th>\n",
       "      <th>year</th>\n",
       "      <th>lifeExp</th>\n",
       "      <th>pop</th>\n",
       "      <th>gdpPercap</th>\n",
       "    </tr>\n",
       "  </thead>\n",
       "  <tbody>\n",
       "    <tr>\n",
       "      <th>0</th>\n",
       "      <td>Afghanistan</td>\n",
       "      <td>Asia</td>\n",
       "      <td>1952</td>\n",
       "      <td>28.801</td>\n",
       "      <td>8425333</td>\n",
       "      <td>779.445314</td>\n",
       "    </tr>\n",
       "    <tr>\n",
       "      <th>1</th>\n",
       "      <td>Afghanistan</td>\n",
       "      <td>Asia</td>\n",
       "      <td>1957</td>\n",
       "      <td>30.332</td>\n",
       "      <td>9240934</td>\n",
       "      <td>820.853030</td>\n",
       "    </tr>\n",
       "    <tr>\n",
       "      <th>2</th>\n",
       "      <td>Afghanistan</td>\n",
       "      <td>Asia</td>\n",
       "      <td>1962</td>\n",
       "      <td>31.997</td>\n",
       "      <td>10267083</td>\n",
       "      <td>853.100710</td>\n",
       "    </tr>\n",
       "    <tr>\n",
       "      <th>3</th>\n",
       "      <td>Afghanistan</td>\n",
       "      <td>Asia</td>\n",
       "      <td>1967</td>\n",
       "      <td>34.020</td>\n",
       "      <td>11537966</td>\n",
       "      <td>836.197138</td>\n",
       "    </tr>\n",
       "    <tr>\n",
       "      <th>4</th>\n",
       "      <td>Afghanistan</td>\n",
       "      <td>Asia</td>\n",
       "      <td>1972</td>\n",
       "      <td>36.088</td>\n",
       "      <td>13079460</td>\n",
       "      <td>739.981106</td>\n",
       "    </tr>\n",
       "    <tr>\n",
       "      <th>...</th>\n",
       "      <td>...</td>\n",
       "      <td>...</td>\n",
       "      <td>...</td>\n",
       "      <td>...</td>\n",
       "      <td>...</td>\n",
       "      <td>...</td>\n",
       "    </tr>\n",
       "    <tr>\n",
       "      <th>1699</th>\n",
       "      <td>Zimbabwe</td>\n",
       "      <td>Africa</td>\n",
       "      <td>1987</td>\n",
       "      <td>62.351</td>\n",
       "      <td>9216418</td>\n",
       "      <td>706.157306</td>\n",
       "    </tr>\n",
       "    <tr>\n",
       "      <th>1700</th>\n",
       "      <td>Zimbabwe</td>\n",
       "      <td>Africa</td>\n",
       "      <td>1992</td>\n",
       "      <td>60.377</td>\n",
       "      <td>10704340</td>\n",
       "      <td>693.420786</td>\n",
       "    </tr>\n",
       "    <tr>\n",
       "      <th>1701</th>\n",
       "      <td>Zimbabwe</td>\n",
       "      <td>Africa</td>\n",
       "      <td>1997</td>\n",
       "      <td>46.809</td>\n",
       "      <td>11404948</td>\n",
       "      <td>792.449960</td>\n",
       "    </tr>\n",
       "    <tr>\n",
       "      <th>1702</th>\n",
       "      <td>Zimbabwe</td>\n",
       "      <td>Africa</td>\n",
       "      <td>2002</td>\n",
       "      <td>39.989</td>\n",
       "      <td>11926563</td>\n",
       "      <td>672.038623</td>\n",
       "    </tr>\n",
       "    <tr>\n",
       "      <th>1703</th>\n",
       "      <td>Zimbabwe</td>\n",
       "      <td>Africa</td>\n",
       "      <td>2007</td>\n",
       "      <td>43.487</td>\n",
       "      <td>12311143</td>\n",
       "      <td>469.709298</td>\n",
       "    </tr>\n",
       "  </tbody>\n",
       "</table>\n",
       "<p>1704 rows × 6 columns</p>\n",
       "</div>"
      ],
      "text/plain": [
       "          country continent  year  lifeExp       pop   gdpPercap\n",
       "0     Afghanistan      Asia  1952   28.801   8425333  779.445314\n",
       "1     Afghanistan      Asia  1957   30.332   9240934  820.853030\n",
       "2     Afghanistan      Asia  1962   31.997  10267083  853.100710\n",
       "3     Afghanistan      Asia  1967   34.020  11537966  836.197138\n",
       "4     Afghanistan      Asia  1972   36.088  13079460  739.981106\n",
       "...           ...       ...   ...      ...       ...         ...\n",
       "1699     Zimbabwe    Africa  1987   62.351   9216418  706.157306\n",
       "1700     Zimbabwe    Africa  1992   60.377  10704340  693.420786\n",
       "1701     Zimbabwe    Africa  1997   46.809  11404948  792.449960\n",
       "1702     Zimbabwe    Africa  2002   39.989  11926563  672.038623\n",
       "1703     Zimbabwe    Africa  2007   43.487  12311143  469.709298\n",
       "\n",
       "[1704 rows x 6 columns]"
      ]
     },
     "execution_count": 11,
     "metadata": {},
     "output_type": "execute_result"
    }
   ],
   "source": [
    "gap=pd.read_csv('./data/gapminder.tsv',sep='\\t')\n",
    "gap"
   ]
  },
  {
   "cell_type": "code",
   "execution_count": 12,
   "id": "2f265ade",
   "metadata": {
    "ExecuteTime": {
     "end_time": "2023-07-13T06:08:51.048704Z",
     "start_time": "2023-07-13T06:08:51.042940Z"
    }
   },
   "outputs": [],
   "source": [
    "def func3(x):\n",
    "    return x-x.mean()"
   ]
  },
  {
   "cell_type": "code",
   "execution_count": 13,
   "id": "b567bf50",
   "metadata": {
    "ExecuteTime": {
     "end_time": "2023-07-13T06:08:51.891044Z",
     "start_time": "2023-07-13T06:08:51.871460Z"
    }
   },
   "outputs": [
    {
     "data": {
      "text/plain": [
       "0      -20.256620\n",
       "1      -21.175401\n",
       "2      -21.612249\n",
       "3      -21.658290\n",
       "4      -21.559386\n",
       "          ...    \n",
       "1699    -0.861613\n",
       "1700    -3.783338\n",
       "1701   -18.205676\n",
       "1702   -25.705923\n",
       "1703   -23.520423\n",
       "Name: lifeExp, Length: 1704, dtype: float64"
      ]
     },
     "execution_count": 13,
     "metadata": {},
     "output_type": "execute_result"
    }
   ],
   "source": [
    "gap.groupby('year')['lifeExp'].transform(func3)"
   ]
  },
  {
   "cell_type": "code",
   "execution_count": 14,
   "id": "f5e77058",
   "metadata": {
    "ExecuteTime": {
     "end_time": "2023-07-13T06:08:53.024598Z",
     "start_time": "2023-07-13T06:08:53.004129Z"
    }
   },
   "outputs": [
    {
     "data": {
      "text/html": [
       "<div>\n",
       "<style scoped>\n",
       "    .dataframe tbody tr th:only-of-type {\n",
       "        vertical-align: middle;\n",
       "    }\n",
       "\n",
       "    .dataframe tbody tr th {\n",
       "        vertical-align: top;\n",
       "    }\n",
       "\n",
       "    .dataframe thead th {\n",
       "        text-align: right;\n",
       "    }\n",
       "</style>\n",
       "<table border=\"1\" class=\"dataframe\">\n",
       "  <thead>\n",
       "    <tr style=\"text-align: right;\">\n",
       "      <th></th>\n",
       "      <th>total_bill</th>\n",
       "      <th>tip</th>\n",
       "      <th>sex</th>\n",
       "      <th>smoker</th>\n",
       "      <th>day</th>\n",
       "      <th>time</th>\n",
       "      <th>size</th>\n",
       "    </tr>\n",
       "  </thead>\n",
       "  <tbody>\n",
       "    <tr>\n",
       "      <th>24</th>\n",
       "      <td>19.82</td>\n",
       "      <td>3.18</td>\n",
       "      <td>Male</td>\n",
       "      <td>No</td>\n",
       "      <td>Sat</td>\n",
       "      <td>Dinner</td>\n",
       "      <td>2</td>\n",
       "    </tr>\n",
       "    <tr>\n",
       "      <th>6</th>\n",
       "      <td>8.77</td>\n",
       "      <td>2.00</td>\n",
       "      <td>Male</td>\n",
       "      <td>No</td>\n",
       "      <td>Sun</td>\n",
       "      <td>Dinner</td>\n",
       "      <td>2</td>\n",
       "    </tr>\n",
       "    <tr>\n",
       "      <th>153</th>\n",
       "      <td>24.55</td>\n",
       "      <td>2.00</td>\n",
       "      <td>Male</td>\n",
       "      <td>No</td>\n",
       "      <td>Sun</td>\n",
       "      <td>Dinner</td>\n",
       "      <td>4</td>\n",
       "    </tr>\n",
       "    <tr>\n",
       "      <th>211</th>\n",
       "      <td>25.89</td>\n",
       "      <td>5.16</td>\n",
       "      <td>Male</td>\n",
       "      <td>Yes</td>\n",
       "      <td>Sat</td>\n",
       "      <td>Dinner</td>\n",
       "      <td>4</td>\n",
       "    </tr>\n",
       "    <tr>\n",
       "      <th>198</th>\n",
       "      <td>13.00</td>\n",
       "      <td>2.00</td>\n",
       "      <td>Female</td>\n",
       "      <td>Yes</td>\n",
       "      <td>Thur</td>\n",
       "      <td>Lunch</td>\n",
       "      <td>2</td>\n",
       "    </tr>\n",
       "    <tr>\n",
       "      <th>176</th>\n",
       "      <td>17.89</td>\n",
       "      <td>2.00</td>\n",
       "      <td>Male</td>\n",
       "      <td>Yes</td>\n",
       "      <td>Sun</td>\n",
       "      <td>Dinner</td>\n",
       "      <td>2</td>\n",
       "    </tr>\n",
       "    <tr>\n",
       "      <th>192</th>\n",
       "      <td>28.44</td>\n",
       "      <td>2.56</td>\n",
       "      <td>Male</td>\n",
       "      <td>Yes</td>\n",
       "      <td>Thur</td>\n",
       "      <td>Lunch</td>\n",
       "      <td>2</td>\n",
       "    </tr>\n",
       "    <tr>\n",
       "      <th>124</th>\n",
       "      <td>12.48</td>\n",
       "      <td>2.52</td>\n",
       "      <td>Female</td>\n",
       "      <td>No</td>\n",
       "      <td>Thur</td>\n",
       "      <td>Lunch</td>\n",
       "      <td>2</td>\n",
       "    </tr>\n",
       "    <tr>\n",
       "      <th>9</th>\n",
       "      <td>14.78</td>\n",
       "      <td>3.23</td>\n",
       "      <td>Male</td>\n",
       "      <td>No</td>\n",
       "      <td>Sun</td>\n",
       "      <td>Dinner</td>\n",
       "      <td>2</td>\n",
       "    </tr>\n",
       "    <tr>\n",
       "      <th>101</th>\n",
       "      <td>15.38</td>\n",
       "      <td>3.00</td>\n",
       "      <td>Female</td>\n",
       "      <td>Yes</td>\n",
       "      <td>Fri</td>\n",
       "      <td>Dinner</td>\n",
       "      <td>2</td>\n",
       "    </tr>\n",
       "  </tbody>\n",
       "</table>\n",
       "</div>"
      ],
      "text/plain": [
       "     total_bill   tip     sex smoker   day    time  size\n",
       "24        19.82  3.18    Male     No   Sat  Dinner     2\n",
       "6          8.77  2.00    Male     No   Sun  Dinner     2\n",
       "153       24.55  2.00    Male     No   Sun  Dinner     4\n",
       "211       25.89  5.16    Male    Yes   Sat  Dinner     4\n",
       "198       13.00  2.00  Female    Yes  Thur   Lunch     2\n",
       "176       17.89  2.00    Male    Yes   Sun  Dinner     2\n",
       "192       28.44  2.56    Male    Yes  Thur   Lunch     2\n",
       "124       12.48  2.52  Female     No  Thur   Lunch     2\n",
       "9         14.78  3.23    Male     No   Sun  Dinner     2\n",
       "101       15.38  3.00  Female    Yes   Fri  Dinner     2"
      ]
     },
     "execution_count": 14,
     "metadata": {},
     "output_type": "execute_result"
    }
   ],
   "source": [
    "# 通过transform填充缺失值\n",
    "tips=pd.read_csv('./data/tips.csv').sample(10,random_state=42)\n",
    "tips"
   ]
  },
  {
   "cell_type": "code",
   "execution_count": 15,
   "id": "3ea0f7f9",
   "metadata": {
    "ExecuteTime": {
     "end_time": "2023-07-13T06:08:54.579497Z",
     "start_time": "2023-07-13T06:08:54.559752Z"
    }
   },
   "outputs": [
    {
     "data": {
      "text/html": [
       "<div>\n",
       "<style scoped>\n",
       "    .dataframe tbody tr th:only-of-type {\n",
       "        vertical-align: middle;\n",
       "    }\n",
       "\n",
       "    .dataframe tbody tr th {\n",
       "        vertical-align: top;\n",
       "    }\n",
       "\n",
       "    .dataframe thead th {\n",
       "        text-align: right;\n",
       "    }\n",
       "</style>\n",
       "<table border=\"1\" class=\"dataframe\">\n",
       "  <thead>\n",
       "    <tr style=\"text-align: right;\">\n",
       "      <th></th>\n",
       "      <th>total_bill</th>\n",
       "      <th>tip</th>\n",
       "      <th>smoker</th>\n",
       "      <th>day</th>\n",
       "      <th>time</th>\n",
       "      <th>size</th>\n",
       "    </tr>\n",
       "    <tr>\n",
       "      <th>sex</th>\n",
       "      <th></th>\n",
       "      <th></th>\n",
       "      <th></th>\n",
       "      <th></th>\n",
       "      <th></th>\n",
       "      <th></th>\n",
       "    </tr>\n",
       "  </thead>\n",
       "  <tbody>\n",
       "    <tr>\n",
       "      <th>Female</th>\n",
       "      <td>3</td>\n",
       "      <td>3</td>\n",
       "      <td>3</td>\n",
       "      <td>3</td>\n",
       "      <td>3</td>\n",
       "      <td>3</td>\n",
       "    </tr>\n",
       "    <tr>\n",
       "      <th>Male</th>\n",
       "      <td>7</td>\n",
       "      <td>7</td>\n",
       "      <td>7</td>\n",
       "      <td>7</td>\n",
       "      <td>7</td>\n",
       "      <td>7</td>\n",
       "    </tr>\n",
       "  </tbody>\n",
       "</table>\n",
       "</div>"
      ],
      "text/plain": [
       "        total_bill  tip  smoker  day  time  size\n",
       "sex                                             \n",
       "Female           3    3       3    3     3     3\n",
       "Male             7    7       7    7     7     7"
      ]
     },
     "execution_count": 15,
     "metadata": {},
     "output_type": "execute_result"
    }
   ],
   "source": [
    "tips.groupby('sex').count()"
   ]
  },
  {
   "cell_type": "code",
   "execution_count": 16,
   "id": "33102000",
   "metadata": {
    "ExecuteTime": {
     "end_time": "2023-07-13T06:08:55.363062Z",
     "start_time": "2023-07-13T06:08:55.345932Z"
    }
   },
   "outputs": [
    {
     "data": {
      "text/html": [
       "<div>\n",
       "<style scoped>\n",
       "    .dataframe tbody tr th:only-of-type {\n",
       "        vertical-align: middle;\n",
       "    }\n",
       "\n",
       "    .dataframe tbody tr th {\n",
       "        vertical-align: top;\n",
       "    }\n",
       "\n",
       "    .dataframe thead th {\n",
       "        text-align: right;\n",
       "    }\n",
       "</style>\n",
       "<table border=\"1\" class=\"dataframe\">\n",
       "  <thead>\n",
       "    <tr style=\"text-align: right;\">\n",
       "      <th></th>\n",
       "      <th>total_bill</th>\n",
       "      <th>tip</th>\n",
       "      <th>smoker</th>\n",
       "      <th>day</th>\n",
       "      <th>time</th>\n",
       "      <th>size</th>\n",
       "    </tr>\n",
       "    <tr>\n",
       "      <th>sex</th>\n",
       "      <th></th>\n",
       "      <th></th>\n",
       "      <th></th>\n",
       "      <th></th>\n",
       "      <th></th>\n",
       "      <th></th>\n",
       "    </tr>\n",
       "  </thead>\n",
       "  <tbody>\n",
       "    <tr>\n",
       "      <th>Female</th>\n",
       "      <td>2</td>\n",
       "      <td>3</td>\n",
       "      <td>3</td>\n",
       "      <td>3</td>\n",
       "      <td>3</td>\n",
       "      <td>3</td>\n",
       "    </tr>\n",
       "    <tr>\n",
       "      <th>Male</th>\n",
       "      <td>5</td>\n",
       "      <td>7</td>\n",
       "      <td>7</td>\n",
       "      <td>7</td>\n",
       "      <td>7</td>\n",
       "      <td>7</td>\n",
       "    </tr>\n",
       "  </tbody>\n",
       "</table>\n",
       "</div>"
      ],
      "text/plain": [
       "        total_bill  tip  smoker  day  time  size\n",
       "sex                                             \n",
       "Female           2    3       3    3     3     3\n",
       "Male             5    7       7    7     7     7"
      ]
     },
     "execution_count": 16,
     "metadata": {},
     "output_type": "execute_result"
    }
   ],
   "source": [
    "import numpy as np\n",
    "tips.iloc[[1,3,4],0]=np.nan\n",
    "tips.groupby('sex').count()"
   ]
  },
  {
   "cell_type": "code",
   "execution_count": 17,
   "id": "1e5a40e7",
   "metadata": {
    "ExecuteTime": {
     "end_time": "2023-07-13T06:08:56.478609Z",
     "start_time": "2023-07-13T06:08:56.473609Z"
    }
   },
   "outputs": [],
   "source": [
    "def func4(x):\n",
    "    avg=x.mean()\n",
    "    return x.fillna(avg)"
   ]
  },
  {
   "cell_type": "code",
   "execution_count": 18,
   "id": "035227a7",
   "metadata": {
    "ExecuteTime": {
     "end_time": "2023-07-13T06:08:57.506562Z",
     "start_time": "2023-07-13T06:08:57.484477Z"
    }
   },
   "outputs": [
    {
     "data": {
      "text/html": [
       "<div>\n",
       "<style scoped>\n",
       "    .dataframe tbody tr th:only-of-type {\n",
       "        vertical-align: middle;\n",
       "    }\n",
       "\n",
       "    .dataframe tbody tr th {\n",
       "        vertical-align: top;\n",
       "    }\n",
       "\n",
       "    .dataframe thead th {\n",
       "        text-align: right;\n",
       "    }\n",
       "</style>\n",
       "<table border=\"1\" class=\"dataframe\">\n",
       "  <thead>\n",
       "    <tr style=\"text-align: right;\">\n",
       "      <th></th>\n",
       "      <th>total_bill</th>\n",
       "      <th>tip</th>\n",
       "      <th>sex</th>\n",
       "      <th>smoker</th>\n",
       "      <th>day</th>\n",
       "      <th>time</th>\n",
       "      <th>size</th>\n",
       "      <th>fill</th>\n",
       "    </tr>\n",
       "  </thead>\n",
       "  <tbody>\n",
       "    <tr>\n",
       "      <th>24</th>\n",
       "      <td>19.82</td>\n",
       "      <td>3.18</td>\n",
       "      <td>Male</td>\n",
       "      <td>No</td>\n",
       "      <td>Sat</td>\n",
       "      <td>Dinner</td>\n",
       "      <td>2</td>\n",
       "      <td>19.820</td>\n",
       "    </tr>\n",
       "    <tr>\n",
       "      <th>6</th>\n",
       "      <td>NaN</td>\n",
       "      <td>2.00</td>\n",
       "      <td>Male</td>\n",
       "      <td>No</td>\n",
       "      <td>Sun</td>\n",
       "      <td>Dinner</td>\n",
       "      <td>2</td>\n",
       "      <td>21.096</td>\n",
       "    </tr>\n",
       "    <tr>\n",
       "      <th>153</th>\n",
       "      <td>24.55</td>\n",
       "      <td>2.00</td>\n",
       "      <td>Male</td>\n",
       "      <td>No</td>\n",
       "      <td>Sun</td>\n",
       "      <td>Dinner</td>\n",
       "      <td>4</td>\n",
       "      <td>24.550</td>\n",
       "    </tr>\n",
       "    <tr>\n",
       "      <th>211</th>\n",
       "      <td>NaN</td>\n",
       "      <td>5.16</td>\n",
       "      <td>Male</td>\n",
       "      <td>Yes</td>\n",
       "      <td>Sat</td>\n",
       "      <td>Dinner</td>\n",
       "      <td>4</td>\n",
       "      <td>21.096</td>\n",
       "    </tr>\n",
       "    <tr>\n",
       "      <th>198</th>\n",
       "      <td>NaN</td>\n",
       "      <td>2.00</td>\n",
       "      <td>Female</td>\n",
       "      <td>Yes</td>\n",
       "      <td>Thur</td>\n",
       "      <td>Lunch</td>\n",
       "      <td>2</td>\n",
       "      <td>13.930</td>\n",
       "    </tr>\n",
       "    <tr>\n",
       "      <th>176</th>\n",
       "      <td>17.89</td>\n",
       "      <td>2.00</td>\n",
       "      <td>Male</td>\n",
       "      <td>Yes</td>\n",
       "      <td>Sun</td>\n",
       "      <td>Dinner</td>\n",
       "      <td>2</td>\n",
       "      <td>17.890</td>\n",
       "    </tr>\n",
       "    <tr>\n",
       "      <th>192</th>\n",
       "      <td>28.44</td>\n",
       "      <td>2.56</td>\n",
       "      <td>Male</td>\n",
       "      <td>Yes</td>\n",
       "      <td>Thur</td>\n",
       "      <td>Lunch</td>\n",
       "      <td>2</td>\n",
       "      <td>28.440</td>\n",
       "    </tr>\n",
       "    <tr>\n",
       "      <th>124</th>\n",
       "      <td>12.48</td>\n",
       "      <td>2.52</td>\n",
       "      <td>Female</td>\n",
       "      <td>No</td>\n",
       "      <td>Thur</td>\n",
       "      <td>Lunch</td>\n",
       "      <td>2</td>\n",
       "      <td>12.480</td>\n",
       "    </tr>\n",
       "    <tr>\n",
       "      <th>9</th>\n",
       "      <td>14.78</td>\n",
       "      <td>3.23</td>\n",
       "      <td>Male</td>\n",
       "      <td>No</td>\n",
       "      <td>Sun</td>\n",
       "      <td>Dinner</td>\n",
       "      <td>2</td>\n",
       "      <td>14.780</td>\n",
       "    </tr>\n",
       "    <tr>\n",
       "      <th>101</th>\n",
       "      <td>15.38</td>\n",
       "      <td>3.00</td>\n",
       "      <td>Female</td>\n",
       "      <td>Yes</td>\n",
       "      <td>Fri</td>\n",
       "      <td>Dinner</td>\n",
       "      <td>2</td>\n",
       "      <td>15.380</td>\n",
       "    </tr>\n",
       "  </tbody>\n",
       "</table>\n",
       "</div>"
      ],
      "text/plain": [
       "     total_bill   tip     sex smoker   day    time  size    fill\n",
       "24        19.82  3.18    Male     No   Sat  Dinner     2  19.820\n",
       "6           NaN  2.00    Male     No   Sun  Dinner     2  21.096\n",
       "153       24.55  2.00    Male     No   Sun  Dinner     4  24.550\n",
       "211         NaN  5.16    Male    Yes   Sat  Dinner     4  21.096\n",
       "198         NaN  2.00  Female    Yes  Thur   Lunch     2  13.930\n",
       "176       17.89  2.00    Male    Yes   Sun  Dinner     2  17.890\n",
       "192       28.44  2.56    Male    Yes  Thur   Lunch     2  28.440\n",
       "124       12.48  2.52  Female     No  Thur   Lunch     2  12.480\n",
       "9         14.78  3.23    Male     No   Sun  Dinner     2  14.780\n",
       "101       15.38  3.00  Female    Yes   Fri  Dinner     2  15.380"
      ]
     },
     "execution_count": 18,
     "metadata": {},
     "output_type": "execute_result"
    }
   ],
   "source": [
    "new_tips=tips.groupby('sex')['total_bill'].transform(func4)\n",
    "tips['fill']=new_tips\n",
    "tips"
   ]
  },
  {
   "cell_type": "markdown",
   "id": "c0cc5cae",
   "metadata": {},
   "source": [
    "### 分组过滤"
   ]
  },
  {
   "cell_type": "code",
   "execution_count": 19,
   "id": "38c5ff1c",
   "metadata": {
    "ExecuteTime": {
     "end_time": "2023-07-13T06:08:59.024988Z",
     "start_time": "2023-07-13T06:08:59.003675Z"
    }
   },
   "outputs": [
    {
     "data": {
      "text/plain": [
       "2    8\n",
       "4    2\n",
       "Name: size, dtype: int64"
      ]
     },
     "execution_count": 19,
     "metadata": {},
     "output_type": "execute_result"
    }
   ],
   "source": [
    "tips=pd.read_csv('./data/tips.csv').sample(10,random_state=42)\n",
    "tips['size'].value_counts()"
   ]
  },
  {
   "cell_type": "code",
   "execution_count": 20,
   "id": "36d91346",
   "metadata": {
    "ExecuteTime": {
     "end_time": "2023-07-13T06:08:59.824032Z",
     "start_time": "2023-07-13T06:08:59.801241Z"
    }
   },
   "outputs": [
    {
     "data": {
      "text/html": [
       "<div>\n",
       "<style scoped>\n",
       "    .dataframe tbody tr th:only-of-type {\n",
       "        vertical-align: middle;\n",
       "    }\n",
       "\n",
       "    .dataframe tbody tr th {\n",
       "        vertical-align: top;\n",
       "    }\n",
       "\n",
       "    .dataframe thead th {\n",
       "        text-align: right;\n",
       "    }\n",
       "</style>\n",
       "<table border=\"1\" class=\"dataframe\">\n",
       "  <thead>\n",
       "    <tr style=\"text-align: right;\">\n",
       "      <th></th>\n",
       "      <th>total_bill</th>\n",
       "      <th>tip</th>\n",
       "      <th>sex</th>\n",
       "      <th>smoker</th>\n",
       "      <th>day</th>\n",
       "      <th>time</th>\n",
       "      <th>size</th>\n",
       "    </tr>\n",
       "  </thead>\n",
       "  <tbody>\n",
       "    <tr>\n",
       "      <th>24</th>\n",
       "      <td>19.82</td>\n",
       "      <td>3.18</td>\n",
       "      <td>Male</td>\n",
       "      <td>No</td>\n",
       "      <td>Sat</td>\n",
       "      <td>Dinner</td>\n",
       "      <td>2</td>\n",
       "    </tr>\n",
       "    <tr>\n",
       "      <th>6</th>\n",
       "      <td>8.77</td>\n",
       "      <td>2.00</td>\n",
       "      <td>Male</td>\n",
       "      <td>No</td>\n",
       "      <td>Sun</td>\n",
       "      <td>Dinner</td>\n",
       "      <td>2</td>\n",
       "    </tr>\n",
       "    <tr>\n",
       "      <th>198</th>\n",
       "      <td>13.00</td>\n",
       "      <td>2.00</td>\n",
       "      <td>Female</td>\n",
       "      <td>Yes</td>\n",
       "      <td>Thur</td>\n",
       "      <td>Lunch</td>\n",
       "      <td>2</td>\n",
       "    </tr>\n",
       "    <tr>\n",
       "      <th>176</th>\n",
       "      <td>17.89</td>\n",
       "      <td>2.00</td>\n",
       "      <td>Male</td>\n",
       "      <td>Yes</td>\n",
       "      <td>Sun</td>\n",
       "      <td>Dinner</td>\n",
       "      <td>2</td>\n",
       "    </tr>\n",
       "    <tr>\n",
       "      <th>192</th>\n",
       "      <td>28.44</td>\n",
       "      <td>2.56</td>\n",
       "      <td>Male</td>\n",
       "      <td>Yes</td>\n",
       "      <td>Thur</td>\n",
       "      <td>Lunch</td>\n",
       "      <td>2</td>\n",
       "    </tr>\n",
       "    <tr>\n",
       "      <th>124</th>\n",
       "      <td>12.48</td>\n",
       "      <td>2.52</td>\n",
       "      <td>Female</td>\n",
       "      <td>No</td>\n",
       "      <td>Thur</td>\n",
       "      <td>Lunch</td>\n",
       "      <td>2</td>\n",
       "    </tr>\n",
       "    <tr>\n",
       "      <th>9</th>\n",
       "      <td>14.78</td>\n",
       "      <td>3.23</td>\n",
       "      <td>Male</td>\n",
       "      <td>No</td>\n",
       "      <td>Sun</td>\n",
       "      <td>Dinner</td>\n",
       "      <td>2</td>\n",
       "    </tr>\n",
       "    <tr>\n",
       "      <th>101</th>\n",
       "      <td>15.38</td>\n",
       "      <td>3.00</td>\n",
       "      <td>Female</td>\n",
       "      <td>Yes</td>\n",
       "      <td>Fri</td>\n",
       "      <td>Dinner</td>\n",
       "      <td>2</td>\n",
       "    </tr>\n",
       "  </tbody>\n",
       "</table>\n",
       "</div>"
      ],
      "text/plain": [
       "     total_bill   tip     sex smoker   day    time  size\n",
       "24        19.82  3.18    Male     No   Sat  Dinner     2\n",
       "6          8.77  2.00    Male     No   Sun  Dinner     2\n",
       "198       13.00  2.00  Female    Yes  Thur   Lunch     2\n",
       "176       17.89  2.00    Male    Yes   Sun  Dinner     2\n",
       "192       28.44  2.56    Male    Yes  Thur   Lunch     2\n",
       "124       12.48  2.52  Female     No  Thur   Lunch     2\n",
       "9         14.78  3.23    Male     No   Sun  Dinner     2\n",
       "101       15.38  3.00  Female    Yes   Fri  Dinner     2"
      ]
     },
     "execution_count": 20,
     "metadata": {},
     "output_type": "execute_result"
    }
   ],
   "source": [
    "tips.groupby('size').filter(lambda x:x['size'].count()>4)"
   ]
  },
  {
   "cell_type": "markdown",
   "id": "8f3b5317",
   "metadata": {},
   "source": [
    "### DataFrameGroupBy对象"
   ]
  },
  {
   "cell_type": "code",
   "execution_count": 21,
   "id": "70a4467b",
   "metadata": {
    "ExecuteTime": {
     "end_time": "2023-07-13T06:09:01.125802Z",
     "start_time": "2023-07-13T06:09:01.116072Z"
    }
   },
   "outputs": [],
   "source": [
    "tips=pd.read_csv('./data/tips.csv').sample(10,random_state=42)"
   ]
  },
  {
   "cell_type": "code",
   "execution_count": 22,
   "id": "bd2c2391",
   "metadata": {
    "ExecuteTime": {
     "end_time": "2023-07-13T06:09:01.878820Z",
     "start_time": "2023-07-13T06:09:01.864123Z"
    }
   },
   "outputs": [
    {
     "data": {
      "text/plain": [
       "{'Female': [198, 124, 101], 'Male': [24, 6, 153, 211, 176, 192, 9]}"
      ]
     },
     "execution_count": 22,
     "metadata": {},
     "output_type": "execute_result"
    }
   ],
   "source": [
    "group=tips.groupby('sex')\n",
    "group.groups # 返回的是行编号"
   ]
  },
  {
   "cell_type": "code",
   "execution_count": 23,
   "id": "478aa108",
   "metadata": {
    "ExecuteTime": {
     "end_time": "2023-07-13T06:09:02.692843Z",
     "start_time": "2023-07-13T06:09:02.681654Z"
    }
   },
   "outputs": [
    {
     "data": {
      "text/html": [
       "<div>\n",
       "<style scoped>\n",
       "    .dataframe tbody tr th:only-of-type {\n",
       "        vertical-align: middle;\n",
       "    }\n",
       "\n",
       "    .dataframe tbody tr th {\n",
       "        vertical-align: top;\n",
       "    }\n",
       "\n",
       "    .dataframe thead th {\n",
       "        text-align: right;\n",
       "    }\n",
       "</style>\n",
       "<table border=\"1\" class=\"dataframe\">\n",
       "  <thead>\n",
       "    <tr style=\"text-align: right;\">\n",
       "      <th></th>\n",
       "      <th>total_bill</th>\n",
       "      <th>tip</th>\n",
       "      <th>smoker</th>\n",
       "      <th>day</th>\n",
       "      <th>time</th>\n",
       "      <th>size</th>\n",
       "    </tr>\n",
       "    <tr>\n",
       "      <th>sex</th>\n",
       "      <th></th>\n",
       "      <th></th>\n",
       "      <th></th>\n",
       "      <th></th>\n",
       "      <th></th>\n",
       "      <th></th>\n",
       "    </tr>\n",
       "  </thead>\n",
       "  <tbody>\n",
       "    <tr>\n",
       "      <th>Female</th>\n",
       "      <td>15.38</td>\n",
       "      <td>3.00</td>\n",
       "      <td>Yes</td>\n",
       "      <td>Thur</td>\n",
       "      <td>Lunch</td>\n",
       "      <td>2</td>\n",
       "    </tr>\n",
       "    <tr>\n",
       "      <th>Male</th>\n",
       "      <td>28.44</td>\n",
       "      <td>5.16</td>\n",
       "      <td>Yes</td>\n",
       "      <td>Thur</td>\n",
       "      <td>Lunch</td>\n",
       "      <td>4</td>\n",
       "    </tr>\n",
       "  </tbody>\n",
       "</table>\n",
       "</div>"
      ],
      "text/plain": [
       "        total_bill   tip smoker   day   time  size\n",
       "sex                                               \n",
       "Female       15.38  3.00    Yes  Thur  Lunch     2\n",
       "Male         28.44  5.16    Yes  Thur  Lunch     4"
      ]
     },
     "execution_count": 23,
     "metadata": {},
     "output_type": "execute_result"
    }
   ],
   "source": [
    "group.max()"
   ]
  },
  {
   "cell_type": "code",
   "execution_count": 24,
   "id": "405fcf14",
   "metadata": {
    "ExecuteTime": {
     "end_time": "2023-07-13T06:09:04.113202Z",
     "start_time": "2023-07-13T06:09:04.096289Z"
    }
   },
   "outputs": [
    {
     "data": {
      "text/html": [
       "<div>\n",
       "<style scoped>\n",
       "    .dataframe tbody tr th:only-of-type {\n",
       "        vertical-align: middle;\n",
       "    }\n",
       "\n",
       "    .dataframe tbody tr th {\n",
       "        vertical-align: top;\n",
       "    }\n",
       "\n",
       "    .dataframe thead th {\n",
       "        text-align: right;\n",
       "    }\n",
       "</style>\n",
       "<table border=\"1\" class=\"dataframe\">\n",
       "  <thead>\n",
       "    <tr style=\"text-align: right;\">\n",
       "      <th></th>\n",
       "      <th>total_bill</th>\n",
       "      <th>tip</th>\n",
       "      <th>sex</th>\n",
       "      <th>smoker</th>\n",
       "      <th>day</th>\n",
       "      <th>time</th>\n",
       "      <th>size</th>\n",
       "    </tr>\n",
       "  </thead>\n",
       "  <tbody>\n",
       "    <tr>\n",
       "      <th>198</th>\n",
       "      <td>13.00</td>\n",
       "      <td>2.00</td>\n",
       "      <td>Female</td>\n",
       "      <td>Yes</td>\n",
       "      <td>Thur</td>\n",
       "      <td>Lunch</td>\n",
       "      <td>2</td>\n",
       "    </tr>\n",
       "    <tr>\n",
       "      <th>124</th>\n",
       "      <td>12.48</td>\n",
       "      <td>2.52</td>\n",
       "      <td>Female</td>\n",
       "      <td>No</td>\n",
       "      <td>Thur</td>\n",
       "      <td>Lunch</td>\n",
       "      <td>2</td>\n",
       "    </tr>\n",
       "    <tr>\n",
       "      <th>101</th>\n",
       "      <td>15.38</td>\n",
       "      <td>3.00</td>\n",
       "      <td>Female</td>\n",
       "      <td>Yes</td>\n",
       "      <td>Fri</td>\n",
       "      <td>Dinner</td>\n",
       "      <td>2</td>\n",
       "    </tr>\n",
       "  </tbody>\n",
       "</table>\n",
       "</div>"
      ],
      "text/plain": [
       "     total_bill   tip     sex smoker   day    time  size\n",
       "198       13.00  2.00  Female    Yes  Thur   Lunch     2\n",
       "124       12.48  2.52  Female     No  Thur   Lunch     2\n",
       "101       15.38  3.00  Female    Yes   Fri  Dinner     2"
      ]
     },
     "execution_count": 24,
     "metadata": {},
     "output_type": "execute_result"
    }
   ],
   "source": [
    "group.get_group('Female')"
   ]
  },
  {
   "cell_type": "code",
   "execution_count": 25,
   "id": "d78a8588",
   "metadata": {
    "ExecuteTime": {
     "end_time": "2023-07-13T06:09:05.107512Z",
     "start_time": "2023-07-13T06:09:05.087107Z"
    }
   },
   "outputs": [
    {
     "name": "stdout",
     "output_type": "stream",
     "text": [
      "<class 'tuple'>\n",
      "('Female',      total_bill   tip     sex smoker   day    time  size\n",
      "198       13.00  2.00  Female    Yes  Thur   Lunch     2\n",
      "124       12.48  2.52  Female     No  Thur   Lunch     2\n",
      "101       15.38  3.00  Female    Yes   Fri  Dinner     2)\n",
      "<class 'tuple'>\n",
      "('Male',      total_bill   tip   sex smoker   day    time  size\n",
      "24        19.82  3.18  Male     No   Sat  Dinner     2\n",
      "6          8.77  2.00  Male     No   Sun  Dinner     2\n",
      "153       24.55  2.00  Male     No   Sun  Dinner     4\n",
      "211       25.89  5.16  Male    Yes   Sat  Dinner     4\n",
      "176       17.89  2.00  Male    Yes   Sun  Dinner     2\n",
      "192       28.44  2.56  Male    Yes  Thur   Lunch     2\n",
      "9         14.78  3.23  Male     No   Sun  Dinner     2)\n"
     ]
    }
   ],
   "source": [
    "for g in group:\n",
    "    print(type(g))\n",
    "    print(g)"
   ]
  },
  {
   "cell_type": "markdown",
   "id": "8c344d62",
   "metadata": {},
   "source": [
    "### 多个分组"
   ]
  },
  {
   "cell_type": "code",
   "execution_count": 26,
   "id": "a99f8d56",
   "metadata": {
    "ExecuteTime": {
     "end_time": "2023-07-13T06:09:06.424687Z",
     "start_time": "2023-07-13T06:09:06.405918Z"
    }
   },
   "outputs": [
    {
     "data": {
      "text/html": [
       "<div>\n",
       "<style scoped>\n",
       "    .dataframe tbody tr th:only-of-type {\n",
       "        vertical-align: middle;\n",
       "    }\n",
       "\n",
       "    .dataframe tbody tr th {\n",
       "        vertical-align: top;\n",
       "    }\n",
       "\n",
       "    .dataframe thead th {\n",
       "        text-align: right;\n",
       "    }\n",
       "</style>\n",
       "<table border=\"1\" class=\"dataframe\">\n",
       "  <thead>\n",
       "    <tr style=\"text-align: right;\">\n",
       "      <th></th>\n",
       "      <th></th>\n",
       "      <th>total_bill</th>\n",
       "      <th>tip</th>\n",
       "      <th>size</th>\n",
       "    </tr>\n",
       "    <tr>\n",
       "      <th>sex</th>\n",
       "      <th>time</th>\n",
       "      <th></th>\n",
       "      <th></th>\n",
       "      <th></th>\n",
       "    </tr>\n",
       "  </thead>\n",
       "  <tbody>\n",
       "    <tr>\n",
       "      <th rowspan=\"2\" valign=\"top\">Female</th>\n",
       "      <th>Dinner</th>\n",
       "      <td>15.380000</td>\n",
       "      <td>3.000000</td>\n",
       "      <td>2.000000</td>\n",
       "    </tr>\n",
       "    <tr>\n",
       "      <th>Lunch</th>\n",
       "      <td>12.740000</td>\n",
       "      <td>2.260000</td>\n",
       "      <td>2.000000</td>\n",
       "    </tr>\n",
       "    <tr>\n",
       "      <th rowspan=\"2\" valign=\"top\">Male</th>\n",
       "      <th>Dinner</th>\n",
       "      <td>18.616667</td>\n",
       "      <td>2.928333</td>\n",
       "      <td>2.666667</td>\n",
       "    </tr>\n",
       "    <tr>\n",
       "      <th>Lunch</th>\n",
       "      <td>28.440000</td>\n",
       "      <td>2.560000</td>\n",
       "      <td>2.000000</td>\n",
       "    </tr>\n",
       "  </tbody>\n",
       "</table>\n",
       "</div>"
      ],
      "text/plain": [
       "               total_bill       tip      size\n",
       "sex    time                                  \n",
       "Female Dinner   15.380000  3.000000  2.000000\n",
       "       Lunch    12.740000  2.260000  2.000000\n",
       "Male   Dinner   18.616667  2.928333  2.666667\n",
       "       Lunch    28.440000  2.560000  2.000000"
      ]
     },
     "execution_count": 26,
     "metadata": {},
     "output_type": "execute_result"
    }
   ],
   "source": [
    "tips.groupby(['sex','time']).mean()"
   ]
  },
  {
   "cell_type": "code",
   "execution_count": 27,
   "id": "c2089028",
   "metadata": {
    "ExecuteTime": {
     "end_time": "2023-07-13T06:09:07.230571Z",
     "start_time": "2023-07-13T06:09:07.212358Z"
    }
   },
   "outputs": [
    {
     "data": {
      "text/html": [
       "<div>\n",
       "<style scoped>\n",
       "    .dataframe tbody tr th:only-of-type {\n",
       "        vertical-align: middle;\n",
       "    }\n",
       "\n",
       "    .dataframe tbody tr th {\n",
       "        vertical-align: top;\n",
       "    }\n",
       "\n",
       "    .dataframe thead th {\n",
       "        text-align: right;\n",
       "    }\n",
       "</style>\n",
       "<table border=\"1\" class=\"dataframe\">\n",
       "  <thead>\n",
       "    <tr style=\"text-align: right;\">\n",
       "      <th></th>\n",
       "      <th>sex</th>\n",
       "      <th>time</th>\n",
       "      <th>total_bill</th>\n",
       "      <th>tip</th>\n",
       "      <th>size</th>\n",
       "    </tr>\n",
       "  </thead>\n",
       "  <tbody>\n",
       "    <tr>\n",
       "      <th>0</th>\n",
       "      <td>Female</td>\n",
       "      <td>Dinner</td>\n",
       "      <td>15.380000</td>\n",
       "      <td>3.000000</td>\n",
       "      <td>2.000000</td>\n",
       "    </tr>\n",
       "    <tr>\n",
       "      <th>1</th>\n",
       "      <td>Female</td>\n",
       "      <td>Lunch</td>\n",
       "      <td>12.740000</td>\n",
       "      <td>2.260000</td>\n",
       "      <td>2.000000</td>\n",
       "    </tr>\n",
       "    <tr>\n",
       "      <th>2</th>\n",
       "      <td>Male</td>\n",
       "      <td>Dinner</td>\n",
       "      <td>18.616667</td>\n",
       "      <td>2.928333</td>\n",
       "      <td>2.666667</td>\n",
       "    </tr>\n",
       "    <tr>\n",
       "      <th>3</th>\n",
       "      <td>Male</td>\n",
       "      <td>Lunch</td>\n",
       "      <td>28.440000</td>\n",
       "      <td>2.560000</td>\n",
       "      <td>2.000000</td>\n",
       "    </tr>\n",
       "  </tbody>\n",
       "</table>\n",
       "</div>"
      ],
      "text/plain": [
       "      sex    time  total_bill       tip      size\n",
       "0  Female  Dinner   15.380000  3.000000  2.000000\n",
       "1  Female   Lunch   12.740000  2.260000  2.000000\n",
       "2    Male  Dinner   18.616667  2.928333  2.666667\n",
       "3    Male   Lunch   28.440000  2.560000  2.000000"
      ]
     },
     "execution_count": 27,
     "metadata": {},
     "output_type": "execute_result"
    }
   ],
   "source": [
    "# 不作为行列标签\n",
    "tips.groupby(['sex','time'], as_index=False).mean()"
   ]
  },
  {
   "cell_type": "markdown",
   "id": "3357e6ed",
   "metadata": {},
   "source": [
    "### 数据透视表"
   ]
  },
  {
   "cell_type": "code",
   "execution_count": 31,
   "id": "d327df5c",
   "metadata": {
    "ExecuteTime": {
     "end_time": "2023-07-13T06:12:38.109466Z",
     "start_time": "2023-07-13T06:12:37.979177Z"
    }
   },
   "outputs": [
    {
     "data": {
      "text/html": [
       "<div>\n",
       "<style scoped>\n",
       "    .dataframe tbody tr th:only-of-type {\n",
       "        vertical-align: middle;\n",
       "    }\n",
       "\n",
       "    .dataframe tbody tr th {\n",
       "        vertical-align: top;\n",
       "    }\n",
       "\n",
       "    .dataframe thead th {\n",
       "        text-align: right;\n",
       "    }\n",
       "</style>\n",
       "<table border=\"1\" class=\"dataframe\">\n",
       "  <thead>\n",
       "    <tr style=\"text-align: right;\">\n",
       "      <th></th>\n",
       "      <th>店铺代码</th>\n",
       "      <th>地区编码</th>\n",
       "      <th>渠道大类</th>\n",
       "      <th>商圈等级描述</th>\n",
       "      <th>商圈类别描述</th>\n",
       "      <th>店铺位置</th>\n",
       "      <th>店铺状态</th>\n",
       "      <th>仓储类别</th>\n",
       "      <th>营业员数</th>\n",
       "      <th>仓储面积</th>\n",
       "      <th>店铺等级</th>\n",
       "      <th>店铺时尚度</th>\n",
       "      <th>接受价格等级</th>\n",
       "      <th>店铺类型</th>\n",
       "      <th>装修代数</th>\n",
       "    </tr>\n",
       "  </thead>\n",
       "  <tbody>\n",
       "    <tr>\n",
       "      <th>0</th>\n",
       "      <td>DPX00X</td>\n",
       "      <td>GBL6020</td>\n",
       "      <td>DZ01</td>\n",
       "      <td>流行</td>\n",
       "      <td>中心</td>\n",
       "      <td>1F中岛</td>\n",
       "      <td>A</td>\n",
       "      <td>店外仓</td>\n",
       "      <td>2.0</td>\n",
       "      <td>15</td>\n",
       "      <td>A</td>\n",
       "      <td>2.0</td>\n",
       "      <td>中</td>\n",
       "      <td>1.0</td>\n",
       "      <td>8代</td>\n",
       "    </tr>\n",
       "    <tr>\n",
       "      <th>1</th>\n",
       "      <td>DPX002</td>\n",
       "      <td>GBL6020</td>\n",
       "      <td>DZ01</td>\n",
       "      <td>流行</td>\n",
       "      <td>中心</td>\n",
       "      <td>1F中岛</td>\n",
       "      <td>A</td>\n",
       "      <td>店外仓</td>\n",
       "      <td>2.0</td>\n",
       "      <td>17</td>\n",
       "      <td>A</td>\n",
       "      <td>1.0</td>\n",
       "      <td>中</td>\n",
       "      <td>1.0</td>\n",
       "      <td>7代</td>\n",
       "    </tr>\n",
       "    <tr>\n",
       "      <th>2</th>\n",
       "      <td>DPX003</td>\n",
       "      <td>GBL6020</td>\n",
       "      <td>DZ01</td>\n",
       "      <td>流行</td>\n",
       "      <td>中心</td>\n",
       "      <td>2F中岛</td>\n",
       "      <td>A</td>\n",
       "      <td>店外仓</td>\n",
       "      <td>2.0</td>\n",
       "      <td>10</td>\n",
       "      <td>B</td>\n",
       "      <td>2.0</td>\n",
       "      <td>中</td>\n",
       "      <td>1.0</td>\n",
       "      <td>7代</td>\n",
       "    </tr>\n",
       "    <tr>\n",
       "      <th>3</th>\n",
       "      <td>DPX004</td>\n",
       "      <td>GBL6020</td>\n",
       "      <td>DZ01</td>\n",
       "      <td>流行</td>\n",
       "      <td>新兴</td>\n",
       "      <td>1F边厅</td>\n",
       "      <td>A</td>\n",
       "      <td>店外仓</td>\n",
       "      <td>2.0</td>\n",
       "      <td>13</td>\n",
       "      <td>B</td>\n",
       "      <td>2.0</td>\n",
       "      <td>中</td>\n",
       "      <td>1.0</td>\n",
       "      <td>7代</td>\n",
       "    </tr>\n",
       "    <tr>\n",
       "      <th>4</th>\n",
       "      <td>DPX005</td>\n",
       "      <td>GBL6020</td>\n",
       "      <td>DZ01</td>\n",
       "      <td>流行</td>\n",
       "      <td>中心</td>\n",
       "      <td>1F边厅</td>\n",
       "      <td>A</td>\n",
       "      <td>店外仓</td>\n",
       "      <td>3.0</td>\n",
       "      <td>9</td>\n",
       "      <td>B</td>\n",
       "      <td>1.0</td>\n",
       "      <td>中</td>\n",
       "      <td>1.0</td>\n",
       "      <td>7代</td>\n",
       "    </tr>\n",
       "    <tr>\n",
       "      <th>...</th>\n",
       "      <td>...</td>\n",
       "      <td>...</td>\n",
       "      <td>...</td>\n",
       "      <td>...</td>\n",
       "      <td>...</td>\n",
       "      <td>...</td>\n",
       "      <td>...</td>\n",
       "      <td>...</td>\n",
       "      <td>...</td>\n",
       "      <td>...</td>\n",
       "      <td>...</td>\n",
       "      <td>...</td>\n",
       "      <td>...</td>\n",
       "      <td>...</td>\n",
       "      <td>...</td>\n",
       "    </tr>\n",
       "    <tr>\n",
       "      <th>786</th>\n",
       "      <td>DPJ034</td>\n",
       "      <td>GBL6010</td>\n",
       "      <td>DZ01</td>\n",
       "      <td>流行</td>\n",
       "      <td>新兴</td>\n",
       "      <td>2F边厅</td>\n",
       "      <td>A</td>\n",
       "      <td>店内仓</td>\n",
       "      <td>4.0</td>\n",
       "      <td>20</td>\n",
       "      <td>B</td>\n",
       "      <td>2.0</td>\n",
       "      <td>中</td>\n",
       "      <td>2.0</td>\n",
       "      <td>8代</td>\n",
       "    </tr>\n",
       "    <tr>\n",
       "      <th>787</th>\n",
       "      <td>DPJ036</td>\n",
       "      <td>GBL6120</td>\n",
       "      <td>DZ01</td>\n",
       "      <td>流行</td>\n",
       "      <td>中心</td>\n",
       "      <td>1F边厅</td>\n",
       "      <td>A</td>\n",
       "      <td>店外仓</td>\n",
       "      <td>3.0</td>\n",
       "      <td>30</td>\n",
       "      <td>B</td>\n",
       "      <td>2.0</td>\n",
       "      <td>中</td>\n",
       "      <td>2.0</td>\n",
       "      <td>8代</td>\n",
       "    </tr>\n",
       "    <tr>\n",
       "      <th>788</th>\n",
       "      <td>DPJ037</td>\n",
       "      <td>GBL6100</td>\n",
       "      <td>DZ01</td>\n",
       "      <td>大众</td>\n",
       "      <td>中心</td>\n",
       "      <td>二楼边厅</td>\n",
       "      <td>A</td>\n",
       "      <td>店内仓</td>\n",
       "      <td>3.0</td>\n",
       "      <td>20</td>\n",
       "      <td>A</td>\n",
       "      <td>2.0</td>\n",
       "      <td>中</td>\n",
       "      <td>2.0</td>\n",
       "      <td>8代</td>\n",
       "    </tr>\n",
       "    <tr>\n",
       "      <th>789</th>\n",
       "      <td>DPJ038</td>\n",
       "      <td>GBL6060</td>\n",
       "      <td>DZ01</td>\n",
       "      <td>折扣</td>\n",
       "      <td>郊区</td>\n",
       "      <td>2F边厅</td>\n",
       "      <td>A</td>\n",
       "      <td>店内仓</td>\n",
       "      <td>6.0</td>\n",
       "      <td>50</td>\n",
       "      <td>A</td>\n",
       "      <td>2.0</td>\n",
       "      <td>中</td>\n",
       "      <td>2.0</td>\n",
       "      <td>NaN</td>\n",
       "    </tr>\n",
       "    <tr>\n",
       "      <th>790</th>\n",
       "      <td>DPJ04X</td>\n",
       "      <td>GBL6070</td>\n",
       "      <td>DZ01</td>\n",
       "      <td>折扣</td>\n",
       "      <td>郊区</td>\n",
       "      <td>NaN</td>\n",
       "      <td>A</td>\n",
       "      <td>店内仓</td>\n",
       "      <td>8.0</td>\n",
       "      <td>20</td>\n",
       "      <td>C</td>\n",
       "      <td>3.0</td>\n",
       "      <td>中</td>\n",
       "      <td>2.0</td>\n",
       "      <td>8代</td>\n",
       "    </tr>\n",
       "  </tbody>\n",
       "</table>\n",
       "<p>791 rows × 15 columns</p>\n",
       "</div>"
      ],
      "text/plain": [
       "       店铺代码     地区编码  渠道大类 商圈等级描述 商圈类别描述  店铺位置 店铺状态 仓储类别  营业员数 仓储面积 店铺等级  \\\n",
       "0    DPX00X  GBL6020  DZ01     流行     中心  1F中岛    A  店外仓   2.0   15    A   \n",
       "1    DPX002  GBL6020  DZ01     流行     中心  1F中岛    A  店外仓   2.0   17    A   \n",
       "2    DPX003  GBL6020  DZ01     流行     中心  2F中岛    A  店外仓   2.0   10    B   \n",
       "3    DPX004  GBL6020  DZ01     流行     新兴  1F边厅    A  店外仓   2.0   13    B   \n",
       "4    DPX005  GBL6020  DZ01     流行     中心  1F边厅    A  店外仓   3.0    9    B   \n",
       "..      ...      ...   ...    ...    ...   ...  ...  ...   ...  ...  ...   \n",
       "786  DPJ034  GBL6010  DZ01     流行     新兴  2F边厅    A  店内仓   4.0   20    B   \n",
       "787  DPJ036  GBL6120  DZ01     流行     中心  1F边厅    A  店外仓   3.0   30    B   \n",
       "788  DPJ037  GBL6100  DZ01     大众     中心  二楼边厅    A  店内仓   3.0   20    A   \n",
       "789  DPJ038  GBL6060  DZ01     折扣     郊区  2F边厅    A  店内仓   6.0   50    A   \n",
       "790  DPJ04X  GBL6070  DZ01     折扣     郊区   NaN    A  店内仓   8.0   20    C   \n",
       "\n",
       "     店铺时尚度 接受价格等级  店铺类型 装修代数  \n",
       "0      2.0      中   1.0   8代  \n",
       "1      1.0      中   1.0   7代  \n",
       "2      2.0      中   1.0   7代  \n",
       "3      2.0      中   1.0   7代  \n",
       "4      1.0      中   1.0   7代  \n",
       "..     ...    ...   ...  ...  \n",
       "786    2.0      中   2.0   8代  \n",
       "787    2.0      中   2.0   8代  \n",
       "788    2.0      中   2.0   8代  \n",
       "789    2.0      中   2.0  NaN  \n",
       "790    3.0      中   2.0   8代  \n",
       "\n",
       "[791 rows x 15 columns]"
      ]
     },
     "execution_count": 31,
     "metadata": {},
     "output_type": "execute_result"
    }
   ],
   "source": [
    "store=pd.read_excel('./data/门店信息表.XLSX')\n",
    "store"
   ]
  },
  {
   "cell_type": "code",
   "execution_count": 37,
   "id": "615d7283",
   "metadata": {
    "ExecuteTime": {
     "end_time": "2023-07-13T06:17:58.206107Z",
     "start_time": "2023-07-13T06:17:58.182765Z"
    }
   },
   "outputs": [
    {
     "data": {
      "text/html": [
       "<div>\n",
       "<style scoped>\n",
       "    .dataframe tbody tr th:only-of-type {\n",
       "        vertical-align: middle;\n",
       "    }\n",
       "\n",
       "    .dataframe tbody tr th {\n",
       "        vertical-align: top;\n",
       "    }\n",
       "\n",
       "    .dataframe thead th {\n",
       "        text-align: right;\n",
       "    }\n",
       "</style>\n",
       "<table border=\"1\" class=\"dataframe\">\n",
       "  <thead>\n",
       "    <tr style=\"text-align: right;\">\n",
       "      <th>店铺等级</th>\n",
       "      <th>A</th>\n",
       "      <th>B</th>\n",
       "      <th>C</th>\n",
       "      <th>D</th>\n",
       "    </tr>\n",
       "    <tr>\n",
       "      <th>地区编码</th>\n",
       "      <th></th>\n",
       "      <th></th>\n",
       "      <th></th>\n",
       "      <th></th>\n",
       "    </tr>\n",
       "  </thead>\n",
       "  <tbody>\n",
       "    <tr>\n",
       "      <th>GBL6010</th>\n",
       "      <td>6.0</td>\n",
       "      <td>19.0</td>\n",
       "      <td>14.0</td>\n",
       "      <td>1.0</td>\n",
       "    </tr>\n",
       "    <tr>\n",
       "      <th>GBL6020</th>\n",
       "      <td>8.0</td>\n",
       "      <td>20.0</td>\n",
       "      <td>10.0</td>\n",
       "      <td>2.0</td>\n",
       "    </tr>\n",
       "    <tr>\n",
       "      <th>GBL6030</th>\n",
       "      <td>25.0</td>\n",
       "      <td>27.0</td>\n",
       "      <td>21.0</td>\n",
       "      <td>2.0</td>\n",
       "    </tr>\n",
       "    <tr>\n",
       "      <th>GBL6040</th>\n",
       "      <td>9.0</td>\n",
       "      <td>15.0</td>\n",
       "      <td>18.0</td>\n",
       "      <td>4.0</td>\n",
       "    </tr>\n",
       "    <tr>\n",
       "      <th>GBL6050</th>\n",
       "      <td>6.0</td>\n",
       "      <td>16.0</td>\n",
       "      <td>13.0</td>\n",
       "      <td>3.0</td>\n",
       "    </tr>\n",
       "    <tr>\n",
       "      <th>GBL6060</th>\n",
       "      <td>6.0</td>\n",
       "      <td>14.0</td>\n",
       "      <td>11.0</td>\n",
       "      <td>2.0</td>\n",
       "    </tr>\n",
       "    <tr>\n",
       "      <th>GBL6070</th>\n",
       "      <td>23.0</td>\n",
       "      <td>50.0</td>\n",
       "      <td>37.0</td>\n",
       "      <td>4.0</td>\n",
       "    </tr>\n",
       "    <tr>\n",
       "      <th>GBL6080</th>\n",
       "      <td>15.0</td>\n",
       "      <td>45.0</td>\n",
       "      <td>9.0</td>\n",
       "      <td>2.0</td>\n",
       "    </tr>\n",
       "    <tr>\n",
       "      <th>GBL6090</th>\n",
       "      <td>8.0</td>\n",
       "      <td>22.0</td>\n",
       "      <td>33.0</td>\n",
       "      <td>3.0</td>\n",
       "    </tr>\n",
       "    <tr>\n",
       "      <th>GBL6100</th>\n",
       "      <td>7.0</td>\n",
       "      <td>11.0</td>\n",
       "      <td>15.0</td>\n",
       "      <td>5.0</td>\n",
       "    </tr>\n",
       "    <tr>\n",
       "      <th>GBL6110</th>\n",
       "      <td>6.0</td>\n",
       "      <td>19.0</td>\n",
       "      <td>19.0</td>\n",
       "      <td>1.0</td>\n",
       "    </tr>\n",
       "    <tr>\n",
       "      <th>GBL6120</th>\n",
       "      <td>2.0</td>\n",
       "      <td>7.0</td>\n",
       "      <td>12.0</td>\n",
       "      <td>NaN</td>\n",
       "    </tr>\n",
       "    <tr>\n",
       "      <th>GBL6130</th>\n",
       "      <td>12.0</td>\n",
       "      <td>43.0</td>\n",
       "      <td>15.0</td>\n",
       "      <td>7.0</td>\n",
       "    </tr>\n",
       "    <tr>\n",
       "      <th>GBL6140</th>\n",
       "      <td>4.0</td>\n",
       "      <td>21.0</td>\n",
       "      <td>24.0</td>\n",
       "      <td>5.0</td>\n",
       "    </tr>\n",
       "    <tr>\n",
       "      <th>GBL6D01</th>\n",
       "      <td>3.0</td>\n",
       "      <td>1.0</td>\n",
       "      <td>3.0</td>\n",
       "      <td>NaN</td>\n",
       "    </tr>\n",
       "  </tbody>\n",
       "</table>\n",
       "</div>"
      ],
      "text/plain": [
       "店铺等级        A     B     C    D\n",
       "地区编码                          \n",
       "GBL6010   6.0  19.0  14.0  1.0\n",
       "GBL6020   8.0  20.0  10.0  2.0\n",
       "GBL6030  25.0  27.0  21.0  2.0\n",
       "GBL6040   9.0  15.0  18.0  4.0\n",
       "GBL6050   6.0  16.0  13.0  3.0\n",
       "GBL6060   6.0  14.0  11.0  2.0\n",
       "GBL6070  23.0  50.0  37.0  4.0\n",
       "GBL6080  15.0  45.0   9.0  2.0\n",
       "GBL6090   8.0  22.0  33.0  3.0\n",
       "GBL6100   7.0  11.0  15.0  5.0\n",
       "GBL6110   6.0  19.0  19.0  1.0\n",
       "GBL6120   2.0   7.0  12.0  NaN\n",
       "GBL6130  12.0  43.0  15.0  7.0\n",
       "GBL6140   4.0  21.0  24.0  5.0\n",
       "GBL6D01   3.0   1.0   3.0  NaN"
      ]
     },
     "execution_count": 37,
     "metadata": {},
     "output_type": "execute_result"
    }
   ],
   "source": [
    "store.groupby(['地区编码','店铺等级']).count()['店铺代码'].unstack()"
   ]
  },
  {
   "cell_type": "code",
   "execution_count": 38,
   "id": "ba3bdfd8",
   "metadata": {
    "ExecuteTime": {
     "end_time": "2023-07-13T06:20:07.475771Z",
     "start_time": "2023-07-13T06:20:07.450029Z"
    }
   },
   "outputs": [
    {
     "data": {
      "text/html": [
       "<div>\n",
       "<style scoped>\n",
       "    .dataframe tbody tr th:only-of-type {\n",
       "        vertical-align: middle;\n",
       "    }\n",
       "\n",
       "    .dataframe tbody tr th {\n",
       "        vertical-align: top;\n",
       "    }\n",
       "\n",
       "    .dataframe thead th {\n",
       "        text-align: right;\n",
       "    }\n",
       "</style>\n",
       "<table border=\"1\" class=\"dataframe\">\n",
       "  <thead>\n",
       "    <tr style=\"text-align: right;\">\n",
       "      <th>店铺等级</th>\n",
       "      <th>A</th>\n",
       "      <th>B</th>\n",
       "      <th>C</th>\n",
       "      <th>D</th>\n",
       "    </tr>\n",
       "    <tr>\n",
       "      <th>地区编码</th>\n",
       "      <th></th>\n",
       "      <th></th>\n",
       "      <th></th>\n",
       "      <th></th>\n",
       "    </tr>\n",
       "  </thead>\n",
       "  <tbody>\n",
       "    <tr>\n",
       "      <th>GBL6010</th>\n",
       "      <td>6.0</td>\n",
       "      <td>19.0</td>\n",
       "      <td>14.0</td>\n",
       "      <td>1.0</td>\n",
       "    </tr>\n",
       "    <tr>\n",
       "      <th>GBL6020</th>\n",
       "      <td>8.0</td>\n",
       "      <td>20.0</td>\n",
       "      <td>10.0</td>\n",
       "      <td>2.0</td>\n",
       "    </tr>\n",
       "    <tr>\n",
       "      <th>GBL6030</th>\n",
       "      <td>25.0</td>\n",
       "      <td>27.0</td>\n",
       "      <td>21.0</td>\n",
       "      <td>2.0</td>\n",
       "    </tr>\n",
       "    <tr>\n",
       "      <th>GBL6040</th>\n",
       "      <td>9.0</td>\n",
       "      <td>15.0</td>\n",
       "      <td>18.0</td>\n",
       "      <td>4.0</td>\n",
       "    </tr>\n",
       "    <tr>\n",
       "      <th>GBL6050</th>\n",
       "      <td>6.0</td>\n",
       "      <td>16.0</td>\n",
       "      <td>13.0</td>\n",
       "      <td>3.0</td>\n",
       "    </tr>\n",
       "    <tr>\n",
       "      <th>GBL6060</th>\n",
       "      <td>6.0</td>\n",
       "      <td>14.0</td>\n",
       "      <td>11.0</td>\n",
       "      <td>2.0</td>\n",
       "    </tr>\n",
       "    <tr>\n",
       "      <th>GBL6070</th>\n",
       "      <td>23.0</td>\n",
       "      <td>50.0</td>\n",
       "      <td>37.0</td>\n",
       "      <td>4.0</td>\n",
       "    </tr>\n",
       "    <tr>\n",
       "      <th>GBL6080</th>\n",
       "      <td>15.0</td>\n",
       "      <td>45.0</td>\n",
       "      <td>9.0</td>\n",
       "      <td>2.0</td>\n",
       "    </tr>\n",
       "    <tr>\n",
       "      <th>GBL6090</th>\n",
       "      <td>8.0</td>\n",
       "      <td>22.0</td>\n",
       "      <td>33.0</td>\n",
       "      <td>3.0</td>\n",
       "    </tr>\n",
       "    <tr>\n",
       "      <th>GBL6100</th>\n",
       "      <td>7.0</td>\n",
       "      <td>11.0</td>\n",
       "      <td>15.0</td>\n",
       "      <td>5.0</td>\n",
       "    </tr>\n",
       "    <tr>\n",
       "      <th>GBL6110</th>\n",
       "      <td>6.0</td>\n",
       "      <td>19.0</td>\n",
       "      <td>19.0</td>\n",
       "      <td>1.0</td>\n",
       "    </tr>\n",
       "    <tr>\n",
       "      <th>GBL6120</th>\n",
       "      <td>2.0</td>\n",
       "      <td>7.0</td>\n",
       "      <td>12.0</td>\n",
       "      <td>NaN</td>\n",
       "    </tr>\n",
       "    <tr>\n",
       "      <th>GBL6130</th>\n",
       "      <td>12.0</td>\n",
       "      <td>43.0</td>\n",
       "      <td>15.0</td>\n",
       "      <td>7.0</td>\n",
       "    </tr>\n",
       "    <tr>\n",
       "      <th>GBL6140</th>\n",
       "      <td>4.0</td>\n",
       "      <td>21.0</td>\n",
       "      <td>24.0</td>\n",
       "      <td>5.0</td>\n",
       "    </tr>\n",
       "    <tr>\n",
       "      <th>GBL6D01</th>\n",
       "      <td>3.0</td>\n",
       "      <td>1.0</td>\n",
       "      <td>3.0</td>\n",
       "      <td>NaN</td>\n",
       "    </tr>\n",
       "  </tbody>\n",
       "</table>\n",
       "</div>"
      ],
      "text/plain": [
       "店铺等级        A     B     C    D\n",
       "地区编码                          \n",
       "GBL6010   6.0  19.0  14.0  1.0\n",
       "GBL6020   8.0  20.0  10.0  2.0\n",
       "GBL6030  25.0  27.0  21.0  2.0\n",
       "GBL6040   9.0  15.0  18.0  4.0\n",
       "GBL6050   6.0  16.0  13.0  3.0\n",
       "GBL6060   6.0  14.0  11.0  2.0\n",
       "GBL6070  23.0  50.0  37.0  4.0\n",
       "GBL6080  15.0  45.0   9.0  2.0\n",
       "GBL6090   8.0  22.0  33.0  3.0\n",
       "GBL6100   7.0  11.0  15.0  5.0\n",
       "GBL6110   6.0  19.0  19.0  1.0\n",
       "GBL6120   2.0   7.0  12.0  NaN\n",
       "GBL6130  12.0  43.0  15.0  7.0\n",
       "GBL6140   4.0  21.0  24.0  5.0\n",
       "GBL6D01   3.0   1.0   3.0  NaN"
      ]
     },
     "execution_count": 38,
     "metadata": {},
     "output_type": "execute_result"
    }
   ],
   "source": [
    "# 通过透视表展示\n",
    "store.pivot_table(index='地区编码',columns='店铺等级',values='店铺代码',aggfunc='count')"
   ]
  },
  {
   "cell_type": "markdown",
   "id": "e8f42481",
   "metadata": {},
   "source": [
    "## 时间类型"
   ]
  },
  {
   "cell_type": "code",
   "execution_count": 39,
   "id": "c52dd7e7",
   "metadata": {
    "ExecuteTime": {
     "end_time": "2023-07-13T06:23:31.781363Z",
     "start_time": "2023-07-13T06:23:31.776730Z"
    }
   },
   "outputs": [],
   "source": [
    "from datetime import datetime"
   ]
  },
  {
   "cell_type": "code",
   "execution_count": 40,
   "id": "a7e65a0f",
   "metadata": {
    "ExecuteTime": {
     "end_time": "2023-07-13T06:23:42.873064Z",
     "start_time": "2023-07-13T06:23:42.869064Z"
    }
   },
   "outputs": [
    {
     "data": {
      "text/plain": [
       "datetime.datetime(2023, 7, 13, 14, 23, 42, 871065)"
      ]
     },
     "execution_count": 40,
     "metadata": {},
     "output_type": "execute_result"
    }
   ],
   "source": [
    "t1=datetime.now()\n",
    "t1"
   ]
  },
  {
   "cell_type": "code",
   "execution_count": 41,
   "id": "a8749ce0",
   "metadata": {
    "ExecuteTime": {
     "end_time": "2023-07-13T06:24:08.899211Z",
     "start_time": "2023-07-13T06:24:08.894212Z"
    }
   },
   "outputs": [
    {
     "data": {
      "text/plain": [
       "datetime.datetime(2023, 8, 23, 0, 0)"
      ]
     },
     "execution_count": 41,
     "metadata": {},
     "output_type": "execute_result"
    }
   ],
   "source": [
    "t2=datetime(2023,8,23)\n",
    "t2"
   ]
  },
  {
   "cell_type": "code",
   "execution_count": 42,
   "id": "6fe1c33a",
   "metadata": {
    "ExecuteTime": {
     "end_time": "2023-07-13T06:24:13.410445Z",
     "start_time": "2023-07-13T06:24:13.402057Z"
    }
   },
   "outputs": [
    {
     "data": {
      "text/plain": [
       "datetime.timedelta(days=40, seconds=34577, microseconds=128935)"
      ]
     },
     "execution_count": 42,
     "metadata": {},
     "output_type": "execute_result"
    }
   ],
   "source": [
    "t2-t1"
   ]
  },
  {
   "cell_type": "markdown",
   "id": "5f2f7c63",
   "metadata": {},
   "source": [
    "### pandas时间转换"
   ]
  },
  {
   "cell_type": "code",
   "execution_count": 48,
   "id": "951aca9b",
   "metadata": {
    "ExecuteTime": {
     "end_time": "2023-07-13T06:30:20.263776Z",
     "start_time": "2023-07-13T06:30:20.226412Z"
    }
   },
   "outputs": [
    {
     "name": "stdout",
     "output_type": "stream",
     "text": [
      "<class 'pandas.core.frame.DataFrame'>\n",
      "RangeIndex: 122 entries, 0 to 121\n",
      "Data columns (total 18 columns):\n",
      " #   Column               Non-Null Count  Dtype         \n",
      "---  ------               --------------  -----         \n",
      " 0   Date                 122 non-null    datetime64[ns]\n",
      " 1   Day                  122 non-null    int64         \n",
      " 2   Cases_Guinea         93 non-null     float64       \n",
      " 3   Cases_Liberia        83 non-null     float64       \n",
      " 4   Cases_SierraLeone    87 non-null     float64       \n",
      " 5   Cases_Nigeria        38 non-null     float64       \n",
      " 6   Cases_Senegal        25 non-null     float64       \n",
      " 7   Cases_UnitedStates   18 non-null     float64       \n",
      " 8   Cases_Spain          16 non-null     float64       \n",
      " 9   Cases_Mali           12 non-null     float64       \n",
      " 10  Deaths_Guinea        92 non-null     float64       \n",
      " 11  Deaths_Liberia       81 non-null     float64       \n",
      " 12  Deaths_SierraLeone   87 non-null     float64       \n",
      " 13  Deaths_Nigeria       38 non-null     float64       \n",
      " 14  Deaths_Senegal       22 non-null     float64       \n",
      " 15  Deaths_UnitedStates  18 non-null     float64       \n",
      " 16  Deaths_Spain         16 non-null     float64       \n",
      " 17  Deaths_Mali          12 non-null     float64       \n",
      "dtypes: datetime64[ns](1), float64(16), int64(1)\n",
      "memory usage: 17.3 KB\n"
     ]
    }
   ],
   "source": [
    "df=pd.read_csv('./data/country_timeseries.csv',parse_dates=['Date'])\n",
    "df.info()"
   ]
  },
  {
   "cell_type": "code",
   "execution_count": 51,
   "id": "13e62b6a",
   "metadata": {
    "ExecuteTime": {
     "end_time": "2023-07-13T06:31:13.262738Z",
     "start_time": "2023-07-13T06:31:13.247467Z"
    }
   },
   "outputs": [
    {
     "name": "stdout",
     "output_type": "stream",
     "text": [
      "<class 'pandas.core.frame.DataFrame'>\n",
      "RangeIndex: 122 entries, 0 to 121\n",
      "Data columns (total 19 columns):\n",
      " #   Column               Non-Null Count  Dtype         \n",
      "---  ------               --------------  -----         \n",
      " 0   Date                 122 non-null    datetime64[ns]\n",
      " 1   Day                  122 non-null    int64         \n",
      " 2   Cases_Guinea         93 non-null     float64       \n",
      " 3   Cases_Liberia        83 non-null     float64       \n",
      " 4   Cases_SierraLeone    87 non-null     float64       \n",
      " 5   Cases_Nigeria        38 non-null     float64       \n",
      " 6   Cases_Senegal        25 non-null     float64       \n",
      " 7   Cases_UnitedStates   18 non-null     float64       \n",
      " 8   Cases_Spain          16 non-null     float64       \n",
      " 9   Cases_Mali           12 non-null     float64       \n",
      " 10  Deaths_Guinea        92 non-null     float64       \n",
      " 11  Deaths_Liberia       81 non-null     float64       \n",
      " 12  Deaths_SierraLeone   87 non-null     float64       \n",
      " 13  Deaths_Nigeria       38 non-null     float64       \n",
      " 14  Deaths_Senegal       22 non-null     float64       \n",
      " 15  Deaths_UnitedStates  18 non-null     float64       \n",
      " 16  Deaths_Spain         16 non-null     float64       \n",
      " 17  Deaths_Mali          12 non-null     float64       \n",
      " 18  Date_pd              122 non-null    datetime64[ns]\n",
      "dtypes: datetime64[ns](2), float64(16), int64(1)\n",
      "memory usage: 18.2 KB\n"
     ]
    }
   ],
   "source": [
    "df['Date_pd']=pd.to_datetime(df['Date'])\n",
    "df.info()"
   ]
  },
  {
   "cell_type": "markdown",
   "id": "73b4649b",
   "metadata": {},
   "source": [
    "### 提取datetime中的各部分数据"
   ]
  },
  {
   "cell_type": "code",
   "execution_count": 62,
   "id": "97a00edd",
   "metadata": {
    "ExecuteTime": {
     "end_time": "2023-07-13T06:35:50.191587Z",
     "start_time": "2023-07-13T06:35:50.169542Z"
    }
   },
   "outputs": [
    {
     "data": {
      "text/plain": [
       "2023"
      ]
     },
     "execution_count": 62,
     "metadata": {},
     "output_type": "execute_result"
    },
    {
     "data": {
      "text/plain": [
       "7"
      ]
     },
     "execution_count": 62,
     "metadata": {},
     "output_type": "execute_result"
    },
    {
     "data": {
      "text/plain": [
       "13"
      ]
     },
     "execution_count": 62,
     "metadata": {},
     "output_type": "execute_result"
    }
   ],
   "source": [
    "dt=pd.to_datetime('2023-07-13')\n",
    "dt.year\n",
    "dt.month\n",
    "dt.day"
   ]
  },
  {
   "cell_type": "code",
   "execution_count": 64,
   "id": "36ad1610",
   "metadata": {
    "ExecuteTime": {
     "end_time": "2023-07-13T06:36:52.853277Z",
     "start_time": "2023-07-13T06:36:52.822829Z"
    }
   },
   "outputs": [
    {
     "data": {
      "text/html": [
       "<div>\n",
       "<style scoped>\n",
       "    .dataframe tbody tr th:only-of-type {\n",
       "        vertical-align: middle;\n",
       "    }\n",
       "\n",
       "    .dataframe tbody tr th {\n",
       "        vertical-align: top;\n",
       "    }\n",
       "\n",
       "    .dataframe thead th {\n",
       "        text-align: right;\n",
       "    }\n",
       "</style>\n",
       "<table border=\"1\" class=\"dataframe\">\n",
       "  <thead>\n",
       "    <tr style=\"text-align: right;\">\n",
       "      <th></th>\n",
       "      <th>Date</th>\n",
       "      <th>Day</th>\n",
       "      <th>Cases_Guinea</th>\n",
       "      <th>Cases_Liberia</th>\n",
       "      <th>Cases_SierraLeone</th>\n",
       "      <th>Cases_Nigeria</th>\n",
       "      <th>Cases_Senegal</th>\n",
       "      <th>Cases_UnitedStates</th>\n",
       "      <th>Cases_Spain</th>\n",
       "      <th>Cases_Mali</th>\n",
       "      <th>...</th>\n",
       "      <th>Deaths_SierraLeone</th>\n",
       "      <th>Deaths_Nigeria</th>\n",
       "      <th>Deaths_Senegal</th>\n",
       "      <th>Deaths_UnitedStates</th>\n",
       "      <th>Deaths_Spain</th>\n",
       "      <th>Deaths_Mali</th>\n",
       "      <th>Date_pd</th>\n",
       "      <th>year</th>\n",
       "      <th>month</th>\n",
       "      <th>day</th>\n",
       "    </tr>\n",
       "  </thead>\n",
       "  <tbody>\n",
       "    <tr>\n",
       "      <th>0</th>\n",
       "      <td>2015-01-05</td>\n",
       "      <td>289</td>\n",
       "      <td>2776.0</td>\n",
       "      <td>NaN</td>\n",
       "      <td>10030.0</td>\n",
       "      <td>NaN</td>\n",
       "      <td>NaN</td>\n",
       "      <td>NaN</td>\n",
       "      <td>NaN</td>\n",
       "      <td>NaN</td>\n",
       "      <td>...</td>\n",
       "      <td>2977.0</td>\n",
       "      <td>NaN</td>\n",
       "      <td>NaN</td>\n",
       "      <td>NaN</td>\n",
       "      <td>NaN</td>\n",
       "      <td>NaN</td>\n",
       "      <td>2015-01-05</td>\n",
       "      <td>2015</td>\n",
       "      <td>1</td>\n",
       "      <td>5</td>\n",
       "    </tr>\n",
       "    <tr>\n",
       "      <th>1</th>\n",
       "      <td>2015-01-04</td>\n",
       "      <td>288</td>\n",
       "      <td>2775.0</td>\n",
       "      <td>NaN</td>\n",
       "      <td>9780.0</td>\n",
       "      <td>NaN</td>\n",
       "      <td>NaN</td>\n",
       "      <td>NaN</td>\n",
       "      <td>NaN</td>\n",
       "      <td>NaN</td>\n",
       "      <td>...</td>\n",
       "      <td>2943.0</td>\n",
       "      <td>NaN</td>\n",
       "      <td>NaN</td>\n",
       "      <td>NaN</td>\n",
       "      <td>NaN</td>\n",
       "      <td>NaN</td>\n",
       "      <td>2015-01-04</td>\n",
       "      <td>2015</td>\n",
       "      <td>1</td>\n",
       "      <td>4</td>\n",
       "    </tr>\n",
       "    <tr>\n",
       "      <th>2</th>\n",
       "      <td>2015-01-03</td>\n",
       "      <td>287</td>\n",
       "      <td>2769.0</td>\n",
       "      <td>8166.0</td>\n",
       "      <td>9722.0</td>\n",
       "      <td>NaN</td>\n",
       "      <td>NaN</td>\n",
       "      <td>NaN</td>\n",
       "      <td>NaN</td>\n",
       "      <td>NaN</td>\n",
       "      <td>...</td>\n",
       "      <td>2915.0</td>\n",
       "      <td>NaN</td>\n",
       "      <td>NaN</td>\n",
       "      <td>NaN</td>\n",
       "      <td>NaN</td>\n",
       "      <td>NaN</td>\n",
       "      <td>2015-01-03</td>\n",
       "      <td>2015</td>\n",
       "      <td>1</td>\n",
       "      <td>3</td>\n",
       "    </tr>\n",
       "    <tr>\n",
       "      <th>3</th>\n",
       "      <td>2015-01-02</td>\n",
       "      <td>286</td>\n",
       "      <td>NaN</td>\n",
       "      <td>8157.0</td>\n",
       "      <td>NaN</td>\n",
       "      <td>NaN</td>\n",
       "      <td>NaN</td>\n",
       "      <td>NaN</td>\n",
       "      <td>NaN</td>\n",
       "      <td>NaN</td>\n",
       "      <td>...</td>\n",
       "      <td>NaN</td>\n",
       "      <td>NaN</td>\n",
       "      <td>NaN</td>\n",
       "      <td>NaN</td>\n",
       "      <td>NaN</td>\n",
       "      <td>NaN</td>\n",
       "      <td>2015-01-02</td>\n",
       "      <td>2015</td>\n",
       "      <td>1</td>\n",
       "      <td>2</td>\n",
       "    </tr>\n",
       "    <tr>\n",
       "      <th>4</th>\n",
       "      <td>2014-12-31</td>\n",
       "      <td>284</td>\n",
       "      <td>2730.0</td>\n",
       "      <td>8115.0</td>\n",
       "      <td>9633.0</td>\n",
       "      <td>NaN</td>\n",
       "      <td>NaN</td>\n",
       "      <td>NaN</td>\n",
       "      <td>NaN</td>\n",
       "      <td>NaN</td>\n",
       "      <td>...</td>\n",
       "      <td>2827.0</td>\n",
       "      <td>NaN</td>\n",
       "      <td>NaN</td>\n",
       "      <td>NaN</td>\n",
       "      <td>NaN</td>\n",
       "      <td>NaN</td>\n",
       "      <td>2014-12-31</td>\n",
       "      <td>2014</td>\n",
       "      <td>12</td>\n",
       "      <td>31</td>\n",
       "    </tr>\n",
       "    <tr>\n",
       "      <th>...</th>\n",
       "      <td>...</td>\n",
       "      <td>...</td>\n",
       "      <td>...</td>\n",
       "      <td>...</td>\n",
       "      <td>...</td>\n",
       "      <td>...</td>\n",
       "      <td>...</td>\n",
       "      <td>...</td>\n",
       "      <td>...</td>\n",
       "      <td>...</td>\n",
       "      <td>...</td>\n",
       "      <td>...</td>\n",
       "      <td>...</td>\n",
       "      <td>...</td>\n",
       "      <td>...</td>\n",
       "      <td>...</td>\n",
       "      <td>...</td>\n",
       "      <td>...</td>\n",
       "      <td>...</td>\n",
       "      <td>...</td>\n",
       "      <td>...</td>\n",
       "    </tr>\n",
       "    <tr>\n",
       "      <th>117</th>\n",
       "      <td>2014-03-27</td>\n",
       "      <td>5</td>\n",
       "      <td>103.0</td>\n",
       "      <td>8.0</td>\n",
       "      <td>6.0</td>\n",
       "      <td>NaN</td>\n",
       "      <td>NaN</td>\n",
       "      <td>NaN</td>\n",
       "      <td>NaN</td>\n",
       "      <td>NaN</td>\n",
       "      <td>...</td>\n",
       "      <td>5.0</td>\n",
       "      <td>NaN</td>\n",
       "      <td>NaN</td>\n",
       "      <td>NaN</td>\n",
       "      <td>NaN</td>\n",
       "      <td>NaN</td>\n",
       "      <td>2014-03-27</td>\n",
       "      <td>2014</td>\n",
       "      <td>3</td>\n",
       "      <td>27</td>\n",
       "    </tr>\n",
       "    <tr>\n",
       "      <th>118</th>\n",
       "      <td>2014-03-26</td>\n",
       "      <td>4</td>\n",
       "      <td>86.0</td>\n",
       "      <td>NaN</td>\n",
       "      <td>NaN</td>\n",
       "      <td>NaN</td>\n",
       "      <td>NaN</td>\n",
       "      <td>NaN</td>\n",
       "      <td>NaN</td>\n",
       "      <td>NaN</td>\n",
       "      <td>...</td>\n",
       "      <td>NaN</td>\n",
       "      <td>NaN</td>\n",
       "      <td>NaN</td>\n",
       "      <td>NaN</td>\n",
       "      <td>NaN</td>\n",
       "      <td>NaN</td>\n",
       "      <td>2014-03-26</td>\n",
       "      <td>2014</td>\n",
       "      <td>3</td>\n",
       "      <td>26</td>\n",
       "    </tr>\n",
       "    <tr>\n",
       "      <th>119</th>\n",
       "      <td>2014-03-25</td>\n",
       "      <td>3</td>\n",
       "      <td>86.0</td>\n",
       "      <td>NaN</td>\n",
       "      <td>NaN</td>\n",
       "      <td>NaN</td>\n",
       "      <td>NaN</td>\n",
       "      <td>NaN</td>\n",
       "      <td>NaN</td>\n",
       "      <td>NaN</td>\n",
       "      <td>...</td>\n",
       "      <td>NaN</td>\n",
       "      <td>NaN</td>\n",
       "      <td>NaN</td>\n",
       "      <td>NaN</td>\n",
       "      <td>NaN</td>\n",
       "      <td>NaN</td>\n",
       "      <td>2014-03-25</td>\n",
       "      <td>2014</td>\n",
       "      <td>3</td>\n",
       "      <td>25</td>\n",
       "    </tr>\n",
       "    <tr>\n",
       "      <th>120</th>\n",
       "      <td>2014-03-24</td>\n",
       "      <td>2</td>\n",
       "      <td>86.0</td>\n",
       "      <td>NaN</td>\n",
       "      <td>NaN</td>\n",
       "      <td>NaN</td>\n",
       "      <td>NaN</td>\n",
       "      <td>NaN</td>\n",
       "      <td>NaN</td>\n",
       "      <td>NaN</td>\n",
       "      <td>...</td>\n",
       "      <td>NaN</td>\n",
       "      <td>NaN</td>\n",
       "      <td>NaN</td>\n",
       "      <td>NaN</td>\n",
       "      <td>NaN</td>\n",
       "      <td>NaN</td>\n",
       "      <td>2014-03-24</td>\n",
       "      <td>2014</td>\n",
       "      <td>3</td>\n",
       "      <td>24</td>\n",
       "    </tr>\n",
       "    <tr>\n",
       "      <th>121</th>\n",
       "      <td>2014-03-22</td>\n",
       "      <td>0</td>\n",
       "      <td>49.0</td>\n",
       "      <td>NaN</td>\n",
       "      <td>NaN</td>\n",
       "      <td>NaN</td>\n",
       "      <td>NaN</td>\n",
       "      <td>NaN</td>\n",
       "      <td>NaN</td>\n",
       "      <td>NaN</td>\n",
       "      <td>...</td>\n",
       "      <td>NaN</td>\n",
       "      <td>NaN</td>\n",
       "      <td>NaN</td>\n",
       "      <td>NaN</td>\n",
       "      <td>NaN</td>\n",
       "      <td>NaN</td>\n",
       "      <td>2014-03-22</td>\n",
       "      <td>2014</td>\n",
       "      <td>3</td>\n",
       "      <td>22</td>\n",
       "    </tr>\n",
       "  </tbody>\n",
       "</table>\n",
       "<p>122 rows × 22 columns</p>\n",
       "</div>"
      ],
      "text/plain": [
       "          Date  Day  Cases_Guinea  Cases_Liberia  Cases_SierraLeone  \\\n",
       "0   2015-01-05  289        2776.0            NaN            10030.0   \n",
       "1   2015-01-04  288        2775.0            NaN             9780.0   \n",
       "2   2015-01-03  287        2769.0         8166.0             9722.0   \n",
       "3   2015-01-02  286           NaN         8157.0                NaN   \n",
       "4   2014-12-31  284        2730.0         8115.0             9633.0   \n",
       "..         ...  ...           ...            ...                ...   \n",
       "117 2014-03-27    5         103.0            8.0                6.0   \n",
       "118 2014-03-26    4          86.0            NaN                NaN   \n",
       "119 2014-03-25    3          86.0            NaN                NaN   \n",
       "120 2014-03-24    2          86.0            NaN                NaN   \n",
       "121 2014-03-22    0          49.0            NaN                NaN   \n",
       "\n",
       "     Cases_Nigeria  Cases_Senegal  Cases_UnitedStates  Cases_Spain  \\\n",
       "0              NaN            NaN                 NaN          NaN   \n",
       "1              NaN            NaN                 NaN          NaN   \n",
       "2              NaN            NaN                 NaN          NaN   \n",
       "3              NaN            NaN                 NaN          NaN   \n",
       "4              NaN            NaN                 NaN          NaN   \n",
       "..             ...            ...                 ...          ...   \n",
       "117            NaN            NaN                 NaN          NaN   \n",
       "118            NaN            NaN                 NaN          NaN   \n",
       "119            NaN            NaN                 NaN          NaN   \n",
       "120            NaN            NaN                 NaN          NaN   \n",
       "121            NaN            NaN                 NaN          NaN   \n",
       "\n",
       "     Cases_Mali  ...  Deaths_SierraLeone  Deaths_Nigeria  Deaths_Senegal  \\\n",
       "0           NaN  ...              2977.0             NaN             NaN   \n",
       "1           NaN  ...              2943.0             NaN             NaN   \n",
       "2           NaN  ...              2915.0             NaN             NaN   \n",
       "3           NaN  ...                 NaN             NaN             NaN   \n",
       "4           NaN  ...              2827.0             NaN             NaN   \n",
       "..          ...  ...                 ...             ...             ...   \n",
       "117         NaN  ...                 5.0             NaN             NaN   \n",
       "118         NaN  ...                 NaN             NaN             NaN   \n",
       "119         NaN  ...                 NaN             NaN             NaN   \n",
       "120         NaN  ...                 NaN             NaN             NaN   \n",
       "121         NaN  ...                 NaN             NaN             NaN   \n",
       "\n",
       "     Deaths_UnitedStates  Deaths_Spain  Deaths_Mali    Date_pd  year month  \\\n",
       "0                    NaN           NaN          NaN 2015-01-05  2015     1   \n",
       "1                    NaN           NaN          NaN 2015-01-04  2015     1   \n",
       "2                    NaN           NaN          NaN 2015-01-03  2015     1   \n",
       "3                    NaN           NaN          NaN 2015-01-02  2015     1   \n",
       "4                    NaN           NaN          NaN 2014-12-31  2014    12   \n",
       "..                   ...           ...          ...        ...   ...   ...   \n",
       "117                  NaN           NaN          NaN 2014-03-27  2014     3   \n",
       "118                  NaN           NaN          NaN 2014-03-26  2014     3   \n",
       "119                  NaN           NaN          NaN 2014-03-25  2014     3   \n",
       "120                  NaN           NaN          NaN 2014-03-24  2014     3   \n",
       "121                  NaN           NaN          NaN 2014-03-22  2014     3   \n",
       "\n",
       "     day  \n",
       "0      5  \n",
       "1      4  \n",
       "2      3  \n",
       "3      2  \n",
       "4     31  \n",
       "..   ...  \n",
       "117   27  \n",
       "118   26  \n",
       "119   25  \n",
       "120   24  \n",
       "121   22  \n",
       "\n",
       "[122 rows x 22 columns]"
      ]
     },
     "execution_count": 64,
     "metadata": {},
     "output_type": "execute_result"
    }
   ],
   "source": [
    "df['year']=df['Date_pd'].dt.year\n",
    "df['month']=df['Date_pd'].dt.month\n",
    "df['day']=df['Date_pd'].dt.day\n",
    "df"
   ]
  },
  {
   "cell_type": "code",
   "execution_count": 66,
   "id": "30eeb351",
   "metadata": {
    "ExecuteTime": {
     "end_time": "2023-07-13T06:38:44.124237Z",
     "start_time": "2023-07-13T06:38:44.109718Z"
    }
   },
   "outputs": [
    {
     "data": {
      "text/plain": [
       "Timestamp('2014-03-22 00:00:00')"
      ]
     },
     "execution_count": 66,
     "metadata": {},
     "output_type": "execute_result"
    }
   ],
   "source": [
    "df['Date'].min()"
   ]
  },
  {
   "cell_type": "code",
   "execution_count": 70,
   "id": "b0cfebd6",
   "metadata": {
    "ExecuteTime": {
     "end_time": "2023-07-13T06:39:50.862535Z",
     "start_time": "2023-07-13T06:39:50.844255Z"
    }
   },
   "outputs": [
    {
     "name": "stdout",
     "output_type": "stream",
     "text": [
      "<class 'pandas.core.frame.DataFrame'>\n",
      "RangeIndex: 122 entries, 0 to 121\n",
      "Data columns (total 23 columns):\n",
      " #   Column               Non-Null Count  Dtype          \n",
      "---  ------               --------------  -----          \n",
      " 0   Date                 122 non-null    datetime64[ns] \n",
      " 1   Day                  122 non-null    int64          \n",
      " 2   Cases_Guinea         93 non-null     float64        \n",
      " 3   Cases_Liberia        83 non-null     float64        \n",
      " 4   Cases_SierraLeone    87 non-null     float64        \n",
      " 5   Cases_Nigeria        38 non-null     float64        \n",
      " 6   Cases_Senegal        25 non-null     float64        \n",
      " 7   Cases_UnitedStates   18 non-null     float64        \n",
      " 8   Cases_Spain          16 non-null     float64        \n",
      " 9   Cases_Mali           12 non-null     float64        \n",
      " 10  Deaths_Guinea        92 non-null     float64        \n",
      " 11  Deaths_Liberia       81 non-null     float64        \n",
      " 12  Deaths_SierraLeone   87 non-null     float64        \n",
      " 13  Deaths_Nigeria       38 non-null     float64        \n",
      " 14  Deaths_Senegal       22 non-null     float64        \n",
      " 15  Deaths_UnitedStates  18 non-null     float64        \n",
      " 16  Deaths_Spain         16 non-null     float64        \n",
      " 17  Deaths_Mali          12 non-null     float64        \n",
      " 18  Date_pd              122 non-null    datetime64[ns] \n",
      " 19  year                 122 non-null    int64          \n",
      " 20  month                122 non-null    int64          \n",
      " 21  day                  122 non-null    int64          \n",
      " 22  diff_day             122 non-null    timedelta64[ns]\n",
      "dtypes: datetime64[ns](2), float64(16), int64(4), timedelta64[ns](1)\n",
      "memory usage: 22.0 KB\n"
     ]
    }
   ],
   "source": [
    "df['diff_day']=df['Date']-df['Date'].min()\n",
    "df.info()"
   ]
  },
  {
   "cell_type": "markdown",
   "id": "5ac33f2c",
   "metadata": {},
   "source": [
    "### 日期范围"
   ]
  },
  {
   "cell_type": "code",
   "execution_count": 77,
   "id": "154d39ed",
   "metadata": {
    "ExecuteTime": {
     "end_time": "2023-07-13T06:47:03.241987Z",
     "start_time": "2023-07-13T06:47:03.232865Z"
    }
   },
   "outputs": [
    {
     "data": {
      "text/plain": [
       "DatetimeIndex(['2014-12-31', '2015-01-01', '2015-01-02', '2015-01-03',\n",
       "               '2015-01-04', '2015-01-05'],\n",
       "              dtype='datetime64[ns]', freq='D')"
      ]
     },
     "execution_count": 77,
     "metadata": {},
     "output_type": "execute_result"
    }
   ],
   "source": [
    "range_date=pd.date_range(start='2014-12-31',end='2015-01-05')\n",
    "range_date"
   ]
  },
  {
   "cell_type": "code",
   "execution_count": 75,
   "id": "34b38c72",
   "metadata": {
    "ExecuteTime": {
     "end_time": "2023-07-13T06:46:14.589544Z",
     "start_time": "2023-07-13T06:46:14.581280Z"
    }
   },
   "outputs": [
    {
     "data": {
      "text/html": [
       "<div>\n",
       "<style scoped>\n",
       "    .dataframe tbody tr th:only-of-type {\n",
       "        vertical-align: middle;\n",
       "    }\n",
       "\n",
       "    .dataframe tbody tr th {\n",
       "        vertical-align: top;\n",
       "    }\n",
       "\n",
       "    .dataframe thead th {\n",
       "        text-align: right;\n",
       "    }\n",
       "</style>\n",
       "<table border=\"1\" class=\"dataframe\">\n",
       "  <thead>\n",
       "    <tr style=\"text-align: right;\">\n",
       "      <th></th>\n",
       "      <th>Date</th>\n",
       "      <th>Day</th>\n",
       "      <th>Cases_Guinea</th>\n",
       "      <th>Cases_Liberia</th>\n",
       "      <th>Cases_SierraLeone</th>\n",
       "    </tr>\n",
       "    <tr>\n",
       "      <th>Date</th>\n",
       "      <th></th>\n",
       "      <th></th>\n",
       "      <th></th>\n",
       "      <th></th>\n",
       "      <th></th>\n",
       "    </tr>\n",
       "  </thead>\n",
       "  <tbody>\n",
       "    <tr>\n",
       "      <th>2015-01-05</th>\n",
       "      <td>2015-01-05</td>\n",
       "      <td>289</td>\n",
       "      <td>2776.0</td>\n",
       "      <td>NaN</td>\n",
       "      <td>10030.0</td>\n",
       "    </tr>\n",
       "    <tr>\n",
       "      <th>2015-01-04</th>\n",
       "      <td>2015-01-04</td>\n",
       "      <td>288</td>\n",
       "      <td>2775.0</td>\n",
       "      <td>NaN</td>\n",
       "      <td>9780.0</td>\n",
       "    </tr>\n",
       "    <tr>\n",
       "      <th>2015-01-03</th>\n",
       "      <td>2015-01-03</td>\n",
       "      <td>287</td>\n",
       "      <td>2769.0</td>\n",
       "      <td>8166.0</td>\n",
       "      <td>9722.0</td>\n",
       "    </tr>\n",
       "    <tr>\n",
       "      <th>2015-01-02</th>\n",
       "      <td>2015-01-02</td>\n",
       "      <td>286</td>\n",
       "      <td>NaN</td>\n",
       "      <td>8157.0</td>\n",
       "      <td>NaN</td>\n",
       "    </tr>\n",
       "    <tr>\n",
       "      <th>2014-12-31</th>\n",
       "      <td>2014-12-31</td>\n",
       "      <td>284</td>\n",
       "      <td>2730.0</td>\n",
       "      <td>8115.0</td>\n",
       "      <td>9633.0</td>\n",
       "    </tr>\n",
       "  </tbody>\n",
       "</table>\n",
       "</div>"
      ],
      "text/plain": [
       "                 Date  Day  Cases_Guinea  Cases_Liberia  Cases_SierraLeone\n",
       "Date                                                                      \n",
       "2015-01-05 2015-01-05  289        2776.0            NaN            10030.0\n",
       "2015-01-04 2015-01-04  288        2775.0            NaN             9780.0\n",
       "2015-01-03 2015-01-03  287        2769.0         8166.0             9722.0\n",
       "2015-01-02 2015-01-02  286           NaN         8157.0                NaN\n",
       "2014-12-31 2014-12-31  284        2730.0         8115.0             9633.0"
      ]
     },
     "execution_count": 75,
     "metadata": {},
     "output_type": "execute_result"
    }
   ],
   "source": [
    "df_head=df.iloc[:5,:5]\n",
    "df_head.index=df_head['Date']\n",
    "df_head"
   ]
  },
  {
   "cell_type": "code",
   "execution_count": 78,
   "id": "f7778e44",
   "metadata": {
    "ExecuteTime": {
     "end_time": "2023-07-13T06:47:05.399672Z",
     "start_time": "2023-07-13T06:47:05.390671Z"
    }
   },
   "outputs": [
    {
     "data": {
      "text/html": [
       "<div>\n",
       "<style scoped>\n",
       "    .dataframe tbody tr th:only-of-type {\n",
       "        vertical-align: middle;\n",
       "    }\n",
       "\n",
       "    .dataframe tbody tr th {\n",
       "        vertical-align: top;\n",
       "    }\n",
       "\n",
       "    .dataframe thead th {\n",
       "        text-align: right;\n",
       "    }\n",
       "</style>\n",
       "<table border=\"1\" class=\"dataframe\">\n",
       "  <thead>\n",
       "    <tr style=\"text-align: right;\">\n",
       "      <th></th>\n",
       "      <th>Date</th>\n",
       "      <th>Day</th>\n",
       "      <th>Cases_Guinea</th>\n",
       "      <th>Cases_Liberia</th>\n",
       "      <th>Cases_SierraLeone</th>\n",
       "    </tr>\n",
       "  </thead>\n",
       "  <tbody>\n",
       "    <tr>\n",
       "      <th>2014-12-31</th>\n",
       "      <td>2014-12-31</td>\n",
       "      <td>284.0</td>\n",
       "      <td>2730.0</td>\n",
       "      <td>8115.0</td>\n",
       "      <td>9633.0</td>\n",
       "    </tr>\n",
       "    <tr>\n",
       "      <th>2015-01-01</th>\n",
       "      <td>NaT</td>\n",
       "      <td>NaN</td>\n",
       "      <td>NaN</td>\n",
       "      <td>NaN</td>\n",
       "      <td>NaN</td>\n",
       "    </tr>\n",
       "    <tr>\n",
       "      <th>2015-01-02</th>\n",
       "      <td>2015-01-02</td>\n",
       "      <td>286.0</td>\n",
       "      <td>NaN</td>\n",
       "      <td>8157.0</td>\n",
       "      <td>NaN</td>\n",
       "    </tr>\n",
       "    <tr>\n",
       "      <th>2015-01-03</th>\n",
       "      <td>2015-01-03</td>\n",
       "      <td>287.0</td>\n",
       "      <td>2769.0</td>\n",
       "      <td>8166.0</td>\n",
       "      <td>9722.0</td>\n",
       "    </tr>\n",
       "    <tr>\n",
       "      <th>2015-01-04</th>\n",
       "      <td>2015-01-04</td>\n",
       "      <td>288.0</td>\n",
       "      <td>2775.0</td>\n",
       "      <td>NaN</td>\n",
       "      <td>9780.0</td>\n",
       "    </tr>\n",
       "    <tr>\n",
       "      <th>2015-01-05</th>\n",
       "      <td>2015-01-05</td>\n",
       "      <td>289.0</td>\n",
       "      <td>2776.0</td>\n",
       "      <td>NaN</td>\n",
       "      <td>10030.0</td>\n",
       "    </tr>\n",
       "  </tbody>\n",
       "</table>\n",
       "</div>"
      ],
      "text/plain": [
       "                 Date    Day  Cases_Guinea  Cases_Liberia  Cases_SierraLeone\n",
       "2014-12-31 2014-12-31  284.0        2730.0         8115.0             9633.0\n",
       "2015-01-01        NaT    NaN           NaN            NaN                NaN\n",
       "2015-01-02 2015-01-02  286.0           NaN         8157.0                NaN\n",
       "2015-01-03 2015-01-03  287.0        2769.0         8166.0             9722.0\n",
       "2015-01-04 2015-01-04  288.0        2775.0            NaN             9780.0\n",
       "2015-01-05 2015-01-05  289.0        2776.0            NaN            10030.0"
      ]
     },
     "execution_count": 78,
     "metadata": {},
     "output_type": "execute_result"
    }
   ],
   "source": [
    "df_head.reindex(range_date)"
   ]
  }
 ],
 "metadata": {
  "kernelspec": {
   "display_name": "Python 3 (ipykernel)",
   "language": "python",
   "name": "python3"
  },
  "language_info": {
   "codemirror_mode": {
    "name": "ipython",
    "version": 3
   },
   "file_extension": ".py",
   "mimetype": "text/x-python",
   "name": "python",
   "nbconvert_exporter": "python",
   "pygments_lexer": "ipython3",
   "version": "3.10.3"
  },
  "toc": {
   "base_numbering": 1,
   "nav_menu": {},
   "number_sections": true,
   "sideBar": true,
   "skip_h1_title": false,
   "title_cell": "Table of Contents",
   "title_sidebar": "Contents",
   "toc_cell": false,
   "toc_position": {},
   "toc_section_display": true,
   "toc_window_display": false
  }
 },
 "nbformat": 4,
 "nbformat_minor": 5
}
